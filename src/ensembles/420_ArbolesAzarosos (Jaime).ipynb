{
  "nbformat": 4,
  "nbformat_minor": 0,
  "metadata": {
    "colab": {
      "provenance": [],
      "include_colab_link": true
    },
    "kernelspec": {
      "name": "ir",
      "display_name": "R"
    },
    "language_info": {
      "name": "R"
    }
  },
  "cells": [
    {
      "cell_type": "markdown",
      "metadata": {
        "id": "view-in-github",
        "colab_type": "text"
      },
      "source": [
        "<a href=\"https://colab.research.google.com/github/JaimeLopezGarrido/labo2025v/blob/main/src/ensembles/420_ArbolesAzarosos%20(Jaime).ipynb\" target=\"_parent\"><img src=\"https://colab.research.google.com/assets/colab-badge.svg\" alt=\"Open In Colab\"/></a>"
      ]
    },
    {
      "cell_type": "markdown",
      "source": [
        "# 4. Ensembles de Arboles de Decision"
      ],
      "metadata": {
        "id": "kgJ0E--L0n9s"
      }
    },
    {
      "cell_type": "markdown",
      "source": [
        "Un arbol de decisión es un modelo débil, el aumento del poder predictivo proviene al ensamblar varios arboles de decisión.\n",
        "<br> Si promedio n arboles identicos, el resultados es exactamente el mismo que utilizar un solo arbol, necesito PERTURBAR cada arbol para disponer de variablidad"
      ],
      "metadata": {
        "id": "PgLdmWznXWGZ"
      }
    },
    {
      "cell_type": "markdown",
      "source": [
        "la variabilidad provendrá de estas fuentes:\n",
        "\n",
        "\n",
        "*   Perturbar el dataset\n",
        "*   Perturbar el algoritmo del arbol\n",
        "*   Perturbar el dataset y el algoritmo del arbol al mismo tiempo"
      ],
      "metadata": {
        "id": "FTnxMEOqYRXZ"
      }
    },
    {
      "cell_type": "markdown",
      "source": [
        "Se verán estos tres algoritmos\n",
        "\n",
        "\n",
        "*   Arboles Azarosos\n",
        "*   Random Forest\n",
        "*   Gradient Boosting of Decision Trees"
      ],
      "metadata": {
        "id": "DHp1h9m-X7Rc"
      }
    },
    {
      "cell_type": "markdown",
      "metadata": {
        "id": "3m0ySYPfa7Zr"
      },
      "source": [
        "#### 4.01 Seteo del ambiente en Google Colab"
      ]
    },
    {
      "cell_type": "markdown",
      "metadata": {
        "id": "NGY7H9xza7Zr"
      },
      "source": [
        "Esta parte se debe correr con el runtime en Python3\n",
        "<br>Ir al menu, Runtime -> Change Runtime Type -> Runtime type ->  **Python 3**"
      ]
    },
    {
      "cell_type": "markdown",
      "metadata": {
        "id": "7PupIBNba7Zr"
      },
      "source": [
        "Conectar la virtual machine donde esta corriendo Google Colab con el  Google Drive, para poder tener persistencia de archivos"
      ]
    },
    {
      "cell_type": "code",
      "execution_count": 1,
      "metadata": {
        "id": "9LpZCst5a7Zs",
        "colab": {
          "base_uri": "https://localhost:8080/"
        },
        "outputId": "8593aa6e-6a93-49fa-f39e-00bb13caeb95"
      },
      "outputs": [
        {
          "output_type": "stream",
          "name": "stdout",
          "text": [
            "Mounted at /content/.drive\n"
          ]
        }
      ],
      "source": [
        "# primero establecer el Runtime de Python 3\n",
        "from google.colab import drive\n",
        "drive.mount('/content/.drive')"
      ]
    },
    {
      "cell_type": "markdown",
      "metadata": {
        "id": "JYC_F-wla7Zs"
      },
      "source": [
        "Para correr la siguiente celda es fundamental en Arranque en Frio haber copiado el archivo kaggle.json al Google Drive, en la carpeta indicada en el instructivo\n",
        "\n",
        "<br>los siguientes comando estan en shell script de Linux\n",
        "*   Crear las carpetas en el Google Drive\n",
        "*   \"instalar\" el archivo kaggle.json desde el Google Drive a la virtual machine para que pueda ser utilizado por la libreria  kaggle de Python\n",
        "*   Bajar el  **dataset_pequeno**  al  Google Drive  y tambien al disco local de la virtual machine que esta corriendo Google Colab\n",
        "\n"
      ]
    },
    {
      "cell_type": "code",
      "execution_count": 2,
      "metadata": {
        "id": "XWLelftXa7Zt",
        "colab": {
          "base_uri": "https://localhost:8080/"
        },
        "outputId": "5e7899b9-9e4b-4510-a5ef-6ab85a9e2f4c"
      },
      "outputs": [
        {
          "output_type": "execute_result",
          "data": {
            "text/plain": []
          },
          "metadata": {},
          "execution_count": 2
        }
      ],
      "source": [
        "%%shell\n",
        "\n",
        "mkdir -p \"/content/.drive/My Drive/labo1\"\n",
        "mkdir -p \"/content/buckets\"\n",
        "ln -s \"/content/.drive/My Drive/labo1\" /content/buckets/b1\n",
        "\n",
        "mkdir -p ~/.kaggle\n",
        "cp /content/buckets/b1/kaggle/kaggle.json  ~/.kaggle\n",
        "chmod 600 ~/.kaggle/kaggle.json\n",
        "\n",
        "\n",
        "mkdir -p /content/buckets/b1/exp\n",
        "mkdir -p /content/buckets/b1/datasets\n",
        "mkdir -p /content/datasets\n",
        "\n",
        "\n",
        "\n",
        "archivo_origen=\"https://storage.googleapis.com/open-courses/austral2025-af91/dataset_pequeno.csv\"\n",
        "archivo_destino=\"/content/datasets/dataset_pequeno.csv\"\n",
        "archivo_destino_bucket=\"/content/buckets/b1/datasets/dataset_pequeno.csv\"\n",
        "\n",
        "if ! test -f $archivo_destino_bucket; then\n",
        "  wget  $archivo_origen  -O $archivo_destino_bucket\n",
        "fi\n",
        "\n",
        "\n",
        "if ! test -f $archivo_destino; then\n",
        "  cp  $archivo_destino_bucket  $archivo_destino\n",
        "fi"
      ]
    },
    {
      "cell_type": "markdown",
      "metadata": {
        "id": "Pc9x9DnsNlZv"
      },
      "source": [
        "\n",
        "\n",
        "---\n",
        "\n"
      ]
    },
    {
      "cell_type": "markdown",
      "source": [
        "## 4.02 Arboles Azarosos"
      ],
      "metadata": {
        "id": "qq0KVOtq1K5D"
      }
    },
    {
      "cell_type": "markdown",
      "source": [
        "Arboles Azarosos es el nombre de un algoritmo trivial (por favor NO confundir con Random Forest)\n",
        "Qué tipo de perturbaciones se realizan en Arboles Azarosos\n",
        "* Se perturba el dataset\n",
        "* No se perturba el algoritmo, es siempre rpart original"
      ],
      "metadata": {
        "id": "HsNJjhlRo9jM"
      }
    },
    {
      "cell_type": "markdown",
      "source": [
        "Cada  arbolito de  Arboles Azarosos se entrena sobre un dataset perturbado,  que tiene exactamente la misma cantidad de registros pero solo un subconjunto de los atributos (campos)  del dataset, tomados al azar, de los originales.\n",
        "<br> En esta primera corrida, se construira cada arbol en un dataset utilizando el 50% de los campos"
      ],
      "metadata": {
        "id": "rq2HC28CpXBR"
      }
    },
    {
      "cell_type": "markdown",
      "metadata": {
        "id": "eSU5vi00CPRS"
      },
      "source": [
        "Esta parte se debe correr con el runtime en lenguaje **R** Ir al menu, Runtime -> Change Runtime Type -> Runtime type -> R"
      ]
    },
    {
      "cell_type": "markdown",
      "metadata": {
        "id": "Zq8dySimCPRT"
      },
      "source": [
        "limpio el ambiente de R"
      ]
    },
    {
      "cell_type": "code",
      "source": [
        "format(Sys.time(), \"%a %b %d %X %Y\")"
      ],
      "metadata": {
        "id": "LrdtraBYJrsx",
        "colab": {
          "base_uri": "https://localhost:8080/",
          "height": 34
        },
        "outputId": "3078519b-0be5-4745-ab24-482614057f23"
      },
      "execution_count": 1,
      "outputs": [
        {
          "output_type": "display_data",
          "data": {
            "text/html": [
              "'Sun Oct 26 12:32:03 PM 2025'"
            ],
            "text/markdown": "'Sun Oct 26 12:32:03 PM 2025'",
            "text/latex": "'Sun Oct 26 12:32:03 PM 2025'",
            "text/plain": [
              "[1] \"Sun Oct 26 12:32:03 PM 2025\""
            ]
          },
          "metadata": {}
        }
      ]
    },
    {
      "cell_type": "code",
      "execution_count": 2,
      "metadata": {
        "id": "1iE0U4_WCPRT",
        "colab": {
          "base_uri": "https://localhost:8080/",
          "height": 129
        },
        "outputId": "37614435-16a0-4b7c-b628-c60d61e32267"
      },
      "outputs": [
        {
          "output_type": "display_data",
          "data": {
            "text/html": [
              "<table class=\"dataframe\">\n",
              "<caption>A matrix: 2 × 6 of type dbl</caption>\n",
              "<thead>\n",
              "\t<tr><th></th><th scope=col>used</th><th scope=col>(Mb)</th><th scope=col>gc trigger</th><th scope=col>(Mb)</th><th scope=col>max used</th><th scope=col>(Mb)</th></tr>\n",
              "</thead>\n",
              "<tbody>\n",
              "\t<tr><th scope=row>Ncells</th><td> 660387</td><td>35.3</td><td>1454457</td><td>77.7</td><td>1454457</td><td>77.7</td></tr>\n",
              "\t<tr><th scope=row>Vcells</th><td>1226637</td><td> 9.4</td><td>8388608</td><td>64.0</td><td>1975128</td><td>15.1</td></tr>\n",
              "</tbody>\n",
              "</table>\n"
            ],
            "text/markdown": "\nA matrix: 2 × 6 of type dbl\n\n| <!--/--> | used | (Mb) | gc trigger | (Mb) | max used | (Mb) |\n|---|---|---|---|---|---|---|\n| Ncells |  660387 | 35.3 | 1454457 | 77.7 | 1454457 | 77.7 |\n| Vcells | 1226637 |  9.4 | 8388608 | 64.0 | 1975128 | 15.1 |\n\n",
            "text/latex": "A matrix: 2 × 6 of type dbl\n\\begin{tabular}{r|llllll}\n  & used & (Mb) & gc trigger & (Mb) & max used & (Mb)\\\\\n\\hline\n\tNcells &  660387 & 35.3 & 1454457 & 77.7 & 1454457 & 77.7\\\\\n\tVcells & 1226637 &  9.4 & 8388608 & 64.0 & 1975128 & 15.1\\\\\n\\end{tabular}\n",
            "text/plain": [
              "       used    (Mb) gc trigger (Mb) max used (Mb)\n",
              "Ncells  660387 35.3 1454457    77.7 1454457  77.7\n",
              "Vcells 1226637  9.4 8388608    64.0 1975128  15.1"
            ]
          },
          "metadata": {}
        }
      ],
      "source": [
        "# limpio la memoria\n",
        "rm(list=ls(all.names=TRUE)) # remove all objects\n",
        "gc(full=TRUE, verbose=FALSE) # garbage collection"
      ]
    },
    {
      "cell_type": "code",
      "execution_count": 3,
      "metadata": {
        "id": "BJDwdD0dCPRU",
        "colab": {
          "base_uri": "https://localhost:8080/"
        },
        "outputId": "d43738bc-d14f-42b6-e7cd-dac762144c09"
      },
      "outputs": [
        {
          "output_type": "stream",
          "name": "stderr",
          "text": [
            "Loading required package: data.table\n",
            "\n",
            "Loading required package: rpart\n",
            "\n"
          ]
        }
      ],
      "source": [
        "# cargo las librerias que necesito\n",
        "require(\"data.table\")\n",
        "require(\"rpart\")"
      ]
    },
    {
      "cell_type": "markdown",
      "source": [
        "Aqui debe cargar SU semilla primigenia"
      ],
      "metadata": {
        "id": "M8-Pyp6CCPRU"
      }
    },
    {
      "cell_type": "code",
      "source": [
        "PARAM <- list()\n",
        "PARAM$semilla_primigenia <- 100007\n",
        "\n",
        "# parametros  arbol\n",
        "# entreno cada arbol con solo 50% de las variables variables\n",
        "#  por ahora, es fijo\n",
        "PARAM$feature_fraction <- 0.5\n",
        "\n",
        "PARAM$rpart$cp <- -0.1352002\n",
        "PARAM$rpart$minsplit <- 966\n",
        "PARAM$rpart$minbucket <- 397\n",
        "PARAM$rpart$maxdepth <- 13\n",
        "\n",
        "# voy a generar 512 arboles,\n",
        "#  a mas arboles mas tiempo de proceso y MEJOR MODELO,\n",
        "#  pero ganancias marginales\n",
        "PARAM$num_trees_max <- 32"
      ],
      "metadata": {
        "id": "peRH7ySLCPRV"
      },
      "execution_count": 5,
      "outputs": []
    },
    {
      "cell_type": "code",
      "source": [
        "# carpeta de trabajo\n",
        "setwd(\"/content/buckets/b1/exp\")\n",
        "experimento <- \"Tarea Hogar 04\"\n",
        "dir.create(experimento, showWarnings=FALSE)\n",
        "setwd( paste0(\"/content/buckets/b1/exp/\", experimento ))"
      ],
      "metadata": {
        "id": "1gZD6ZMvCPRV"
      },
      "execution_count": 6,
      "outputs": []
    },
    {
      "cell_type": "code",
      "source": [
        "# lectura del dataset\n",
        "dataset <- fread(\"/content/datasets/dataset_pequeno.csv\")"
      ],
      "metadata": {
        "id": "Xi0emX2ECPRV"
      },
      "execution_count": 4,
      "outputs": []
    },
    {
      "cell_type": "code",
      "source": [
        "# defino los dataset de entrenamiento y aplicacion\n",
        "dtrain <- dataset[foto_mes == 202107]\n",
        "dfuture <- dataset[foto_mes == 202109]\n",
        "\n",
        "# arreglo clase_ternaria por algun distraido \"\"\n",
        "dfuture[, clase_ternaria := NA ]"
      ],
      "metadata": {
        "id": "RA3cSJ6KaGwA"
      },
      "execution_count": 8,
      "outputs": []
    },
    {
      "cell_type": "code",
      "source": [
        "# Establezco cuales son los campos que puedo usar para la prediccion\n",
        "# el copy() es por la Lazy Evaluation\n",
        "campos_buenos <- copy(setdiff(colnames(dtrain), c(\"clase_ternaria\")))"
      ],
      "metadata": {
        "id": "EByLkVMwaC8K"
      },
      "execution_count": 9,
      "outputs": []
    },
    {
      "cell_type": "code",
      "source": [
        "# que tamanos de ensemble grabo a disco\n",
        "grabar <- c(1, 2, 4, 8, 16, 32, 64, 128, 256, 384, 512)"
      ],
      "metadata": {
        "id": "rHMrHwwpaB8D"
      },
      "execution_count": 10,
      "outputs": []
    },
    {
      "cell_type": "code",
      "source": [
        "tb_prediccion <- dfuture[, list(numero_de_cliente)]\n",
        "# aqui se va acumulando la probabilidad del ensemble\n",
        "tb_prediccion[, prob_acumulada := 0]"
      ],
      "metadata": {
        "id": "bJHS2aeghw6I"
      },
      "execution_count": 11,
      "outputs": []
    },
    {
      "cell_type": "code",
      "source": [
        "set.seed(PARAM$semilla_primigenia) # Establezco la semilla aleatoria"
      ],
      "metadata": {
        "id": "H_DGUB_fhzHr"
      },
      "execution_count": 12,
      "outputs": []
    },
    {
      "cell_type": "code",
      "source": [
        "for (arbolito in seq(PARAM$num_trees_max) ) {\n",
        "  message( arbolito, \" \")\n",
        "  qty_campos_a_utilizar <- as.integer(length(campos_buenos)\n",
        "    * PARAM$feature_fraction)\n",
        "\n",
        "  # elijo los campos al azar\n",
        "  campos_random <- sample(campos_buenos, qty_campos_a_utilizar)\n",
        "\n",
        "  # paso de un vector a un string con los elementos\n",
        "  # separados por un signo de \"+\"\n",
        "  # este hace falta para la formula\n",
        "  campos_random <- paste(campos_random, collapse= \" + \")\n",
        "\n",
        "  # armo la formula para rpart\n",
        "  formulita <- paste0(\"clase_ternaria ~ \", campos_random)\n",
        "\n",
        "  # genero el arbol de decision\n",
        "  modelo <- rpart(formulita,\n",
        "    data= dtrain,\n",
        "    xval= 0,\n",
        "    control= PARAM$rpart\n",
        "  )\n",
        "\n",
        "  # aplico el modelo a los datos que no tienen clase\n",
        "  prediccion <- predict(modelo, dfuture, type= \"prob\")\n",
        "\n",
        "  tb_prediccion[, prob_acumulada := prob_acumulada + prediccion[, \"BAJA+2\"]]\n",
        "\n",
        "  if (arbolito %in% grabar) {\n",
        "    umbral_corte <- (1 / 40) * arbolito\n",
        "    tb_prediccion[, Predicted := as.numeric(prob_acumulada > umbral_corte)]\n",
        "\n",
        "    archivo_kaggle <- paste0(\n",
        "        \"KA420_\",\n",
        "        sprintf(\"%.3d\", arbolito), # para que tenga ceros adelante\n",
        "        \".csv\"\n",
        "      )\n",
        "\n",
        "    # grabo el archivo\n",
        "    fwrite( tb_prediccion[, list(numero_de_cliente, Predicted)],\n",
        "      file= archivo_kaggle,\n",
        "      sep= \",\"\n",
        "    )\n",
        "\n",
        "    # subida a Kaggle\n",
        "    # subida a Kaggle\n",
        "    comando <- \"kaggle competitions submit\"\n",
        "    competencia <- \"-c   labo-i-2025-virtual-analista-sr\"\n",
        "    arch <- paste( \"-f\", archivo_kaggle)\n",
        "\n",
        "    mensaje <- paste0(\"-m 'cp=\", PARAM$rpart$cp, \"  minsplit=\", PARAM$rpart$minsplit, \"  minbucket=\", PARAM$rpart$minbucket, \" maxdepth=\", PARAM$rpart$maxdepth, \"'\" )\n",
        "    linea <- paste( comando, competencia, arch, mensaje)\n",
        "    salida <- system(linea, intern=TRUE)\n",
        "    cat(salida)\n",
        "  }\n",
        "}\n"
      ],
      "metadata": {
        "id": "j-xp2HQDhFmY",
        "colab": {
          "base_uri": "https://localhost:8080/"
        },
        "outputId": "d4e58b29-8452-4762-c52b-6ff064722273"
      },
      "execution_count": 13,
      "outputs": [
        {
          "output_type": "stream",
          "name": "stderr",
          "text": [
            "1 \n",
            "\n",
            "Warning message in system(linea, intern = TRUE):\n",
            "“running command 'kaggle competitions submit -c   labo-i-2025-virtual-analista-sr -f KA420_001.csv -m 'cp=-0.1352002  minsplit=966  minbucket=397 maxdepth=13'' had status 1”\n",
            "2 \n",
            "\n",
            "Warning message in system(linea, intern = TRUE):\n",
            "“running command 'kaggle competitions submit -c   labo-i-2025-virtual-analista-sr -f KA420_002.csv -m 'cp=-0.1352002  minsplit=966  minbucket=397 maxdepth=13'' had status 1”\n",
            "3 \n",
            "\n",
            "4 \n",
            "\n",
            "Warning message in system(linea, intern = TRUE):\n",
            "“running command 'kaggle competitions submit -c   labo-i-2025-virtual-analista-sr -f KA420_004.csv -m 'cp=-0.1352002  minsplit=966  minbucket=397 maxdepth=13'' had status 1”\n",
            "5 \n",
            "\n",
            "6 \n",
            "\n",
            "7 \n",
            "\n",
            "8 \n",
            "\n",
            "Warning message in system(linea, intern = TRUE):\n",
            "“running command 'kaggle competitions submit -c   labo-i-2025-virtual-analista-sr -f KA420_008.csv -m 'cp=-0.1352002  minsplit=966  minbucket=397 maxdepth=13'' had status 1”\n",
            "9 \n",
            "\n",
            "10 \n",
            "\n",
            "11 \n",
            "\n",
            "12 \n",
            "\n",
            "13 \n",
            "\n",
            "14 \n",
            "\n",
            "15 \n",
            "\n",
            "16 \n",
            "\n",
            "Warning message in system(linea, intern = TRUE):\n",
            "“running command 'kaggle competitions submit -c   labo-i-2025-virtual-analista-sr -f KA420_016.csv -m 'cp=-0.1352002  minsplit=966  minbucket=397 maxdepth=13'' had status 1”\n",
            "17 \n",
            "\n",
            "18 \n",
            "\n",
            "19 \n",
            "\n",
            "20 \n",
            "\n",
            "21 \n",
            "\n",
            "22 \n",
            "\n",
            "23 \n",
            "\n",
            "24 \n",
            "\n",
            "25 \n",
            "\n",
            "26 \n",
            "\n",
            "27 \n",
            "\n",
            "28 \n",
            "\n",
            "29 \n",
            "\n",
            "30 \n",
            "\n",
            "31 \n",
            "\n",
            "32 \n",
            "\n",
            "Warning message in system(linea, intern = TRUE):\n",
            "“running command 'kaggle competitions submit -c   labo-i-2025-virtual-analista-sr -f KA420_032.csv -m 'cp=-0.1352002  minsplit=966  minbucket=397 maxdepth=13'' had status 1”\n"
          ]
        }
      ]
    },
    {
      "cell_type": "code",
      "source": [
        "format(Sys.time(), \"%a %b %d %X %Y\")"
      ],
      "metadata": {
        "id": "lgmvRHcfJpls",
        "colab": {
          "base_uri": "https://localhost:8080/",
          "height": 34
        },
        "outputId": "2240bb45-097d-46f9-b498-f475558798db"
      },
      "execution_count": 14,
      "outputs": [
        {
          "output_type": "display_data",
          "data": {
            "text/html": [
              "'Sat Oct 25 11:09:57 PM 2025'"
            ],
            "text/markdown": "'Sat Oct 25 11:09:57 PM 2025'",
            "text/latex": "'Sat Oct 25 11:09:57 PM 2025'",
            "text/plain": [
              "[1] \"Sat Oct 25 11:09:57 PM 2025\""
            ]
          },
          "metadata": {}
        }
      ]
    },
    {
      "cell_type": "markdown",
      "source": [
        "Primer Corrida\n",
        "\n",
        "- cp <- -1\n",
        "- minsplit <- 50\n",
        "- minbucket <- 20\n",
        "- maxdepth <- 6\n",
        "\n",
        "Segunda Corrida\n",
        "- cp <- -0.5\n",
        "- minsplit <- 20\n",
        "- minbucket <- 5\n",
        "- maxdepth <- 2\n",
        "\n",
        "Tercer Corrida\n",
        "- PARAM$rpart$cp <- -0.5\n",
        "- PARAM$rpart$minsplit <- 400\n",
        "- PARAM$rpart$minbucket <- 80\n",
        "- PARAM$rpart$maxdepth <- 8\n",
        "\n",
        "Cuarta Corrida\n",
        "- PARAM$rpart$cp <- -0.1352002\n",
        "- PARAM$rpart$minsplit <- 966\n",
        "- PARAM$rpart$minbucket <- 397\n",
        "- PARAM$rpart$maxdepth <- 13"
      ],
      "metadata": {
        "id": "G14ZjlC7OXC7"
      }
    },
    {
      "cell_type": "markdown",
      "metadata": {
        "id": "UMr6Z1enOyd3"
      },
      "source": [
        "\n",
        "\n",
        "---\n",
        "\n"
      ]
    },
    {
      "cell_type": "markdown",
      "source": [
        "# Prueba Optimizacion Bayesiana\n",
        "\n",
        "Pruebo a ver si puedo hacer una optimizacion bayesiana para este arbol\n"
      ],
      "metadata": {
        "id": "vYqObPiCeI_n"
      }
    },
    {
      "cell_type": "code",
      "source": [
        "install.packages(\"ParBayesianOptimization\")\n",
        "library(ParBayesianOptimization)"
      ],
      "metadata": {
        "id": "BsfOZ7FXeWN3",
        "outputId": "a7a0542b-5943-45ab-b1bb-4e96962e9f4a",
        "colab": {
          "base_uri": "https://localhost:8080/"
        }
      },
      "execution_count": 5,
      "outputs": [
        {
          "output_type": "stream",
          "name": "stderr",
          "text": [
            "Installing package into ‘/usr/local/lib/R/site-library’\n",
            "(as ‘lib’ is unspecified)\n",
            "\n",
            "also installing the dependencies ‘rbibutils’, ‘Deriv’, ‘microbenchmark’, ‘Rdpack’, ‘numDeriv’, ‘doBy’, ‘SparseM’, ‘MatrixModels’, ‘minqa’, ‘nloptr’, ‘reformulas’, ‘RcppEigen’, ‘carData’, ‘abind’, ‘Formula’, ‘pbkrtest’, ‘quantreg’, ‘lme4’, ‘corrplot’, ‘car’, ‘iterators’, ‘ggrepel’, ‘ggsci’, ‘cowplot’, ‘ggsignif’, ‘gridExtra’, ‘polynom’, ‘rstatix’, ‘DiceKriging’, ‘foreach’, ‘dbscan’, ‘lhs’, ‘ggpubr’\n",
            "\n",
            "\n"
          ]
        }
      ]
    },
    {
      "cell_type": "code",
      "source": [
        "library(rpart)\n",
        "library(data.table)\n",
        "\n",
        "# Dataset ya cargado\n",
        "dtrain <- dataset[foto_mes == 202107]\n",
        "dvalid <- dataset[foto_mes == 202108]  # usamos un mes intermedio como validación\n",
        "\n",
        "# Definimos la función objetivo\n",
        "eval_arbol <- function(cp, minsplit, minbucket, maxdepth, num_trees_max) {\n",
        "\n",
        "  PARAM <- list()\n",
        "  PARAM$rpart <- list(\n",
        "    cp = cp,\n",
        "    minsplit = as.integer(minsplit),\n",
        "    minbucket = as.integer(minbucket),\n",
        "    maxdepth = as.integer(maxdepth)\n",
        "  )\n",
        "\n",
        "  PARAM$num_trees_max <- as.integer(num_trees_max)\n",
        "  PARAM$feature_fraction <- 0.5\n",
        "\n",
        "  campos_buenos <- setdiff(colnames(dtrain), \"clase_ternaria\")\n",
        "  tb_prediccion <- dvalid[, .(numero_de_cliente)]\n",
        "  tb_prediccion[, prob_acumulada := 0]\n",
        "\n",
        "  set.seed(100007)\n",
        "\n",
        "  for (arbolito in seq(PARAM$num_trees_max)) {\n",
        "    campos_random <- sample(campos_buenos,\n",
        "                            as.integer(length(campos_buenos) * PARAM$feature_fraction))\n",
        "    formulita <- as.formula(paste(\"clase_ternaria ~\", paste(campos_random, collapse = \"+\")))\n",
        "    modelo <- rpart(formulita, data = dtrain, xval = 0, control = PARAM$rpart)\n",
        "    pred <- predict(modelo, dvalid, type = \"prob\")\n",
        "    tb_prediccion[, prob_acumulada := prob_acumulada + pred[, \"BAJA+2\"]]\n",
        "  }\n",
        "\n",
        "  # Usamos un umbral de corte simple\n",
        "  tb_prediccion[, Predicted := as.numeric(prob_acumulada > (1 / 40) * PARAM$num_trees_max)]\n",
        "\n",
        "  # Definí tu función de ganancia (ejemplo simple)\n",
        "  ganancia <- sum(ifelse(tb_prediccion$Predicted == 1 & dvalid$clase_ternaria == \"BAJA+2\", 11700,\n",
        "                         ifelse(tb_prediccion$Predicted == 1 & dvalid$clase_ternaria == \"CONTINUA\", -300, 0)))\n",
        "\n",
        "  return(list(Score = ganancia, Pred = tb_prediccion$Predicted))\n",
        "}"
      ],
      "metadata": {
        "id": "BYoqRGs7eaZ1"
      },
      "execution_count": 6,
      "outputs": []
    },
    {
      "cell_type": "code",
      "source": [
        "bounds <- list(\n",
        "  cp = c(-0.2, 0.01),\n",
        "  minsplit = c(200, 2000),\n",
        "  minbucket = c(100, 1000),\n",
        "  maxdepth = c(4, 20),\n",
        "  num_trees_max = c(16, 64)\n",
        ")\n",
        "\n",
        "optimizacion <- bayesOpt(\n",
        "  FUN = eval_arbol,\n",
        "  bounds = bounds,\n",
        "  initPoints = 10,    # número de puntos iniciales aleatorios\n",
        "  iters.n = 30,       # cantidad de iteraciones de mejora\n",
        "  acq = \"ei\",         # Expected Improvement\n",
        "  verbose = 1\n",
        ")"
      ],
      "metadata": {
        "id": "5ZLakNoiedmh",
        "outputId": "07a92562-669f-466a-f664-f6764fda5681",
        "colab": {
          "base_uri": "https://localhost:8080/",
          "height": 331
        }
      },
      "execution_count": 7,
      "outputs": [
        {
          "output_type": "stream",
          "name": "stdout",
          "text": [
            "\n",
            "Running initial scoring function 10 times in 1 thread(s)..."
          ]
        },
        {
          "output_type": "error",
          "ename": "ERROR",
          "evalue": "Error in bayesOpt(FUN = eval_arbol, bounds = bounds, initPoints = 10, : Errors encountered in initialization are listed above.\n",
          "traceback": [
            "Error in bayesOpt(FUN = eval_arbol, bounds = bounds, initPoints = 10, : Errors encountered in initialization are listed above.\nTraceback:\n",
            "1. stop(\"Errors encountered in initialization are listed above.\")",
            "2. .handleSimpleError(function (cnd) \n . {\n .     watcher$capture_plot_and_output()\n .     cnd <- sanitize_call(cnd)\n .     watcher$push(cnd)\n .     switch(on_error, continue = invokeRestart(\"eval_continue\"), \n .         stop = invokeRestart(\"eval_stop\"), error = NULL)\n . }, \"Errors encountered in initialization are listed above.\", \n .     base::quote(bayesOpt(FUN = eval_arbol, bounds = bounds, initPoints = 10, \n .         iters.n = 30, acq = \"ei\", verbose = 1)))"
          ]
        }
      ]
    },
    {
      "cell_type": "code",
      "source": [
        "getBestPars(optimizacion)\n",
        "optimizacion$scoreSummary"
      ],
      "metadata": {
        "id": "Mn7tTpNYeiO4"
      },
      "execution_count": null,
      "outputs": []
    },
    {
      "cell_type": "markdown",
      "source": [
        "# Segunda Prueba de Optimizacion Bayesiana\n",
        "\n",
        "Intento codigo similar al visto en clase"
      ],
      "metadata": {
        "id": "X2ewXuEwjwyC"
      }
    },
    {
      "cell_type": "code",
      "source": [
        "# --- PACKAGES (instalar si hace falta) ---\n",
        "# install.packages(c(\"data.table\",\"rpart\",\"mlr\",\"mlrMBO\",\"ParamHelpers\",\"parallel\"))\n",
        "library(data.table)\n",
        "library(rpart)\n",
        "library(mlr)\n",
        "library(mlrMBO)\n",
        "library(ParamHelpers)\n",
        "library(parallel)\n",
        "\n",
        "# --- PARAMETRIZACION DEL EXPERIMENTO (como en tu ejemplo) ---\n",
        "PARAM <- list()\n",
        "PARAM$semilla_primigenia <- 100007\n",
        "PARAM$experimento <- \"Opt Bayesiana 02 Tarea 04\"\n",
        "PARAM$BO_iter <- 40 # iteraciones de la BO\n",
        "\n",
        "# agrego num_trees_max y feature_fraction al espacio de búsqueda\n",
        "PARAM$hs <- makeParamSet(\n",
        "  makeNumericParam(\"cp\", lower = -1, upper = 0.1),\n",
        "  makeIntegerParam(\"minsplit\", lower = 1L, upper = 8000L),\n",
        "  makeIntegerParam(\"minbucket\", lower = 1L, upper = 4000L),\n",
        "  makeIntegerParam(\"maxdepth\", lower = 3L, upper = 20L),\n",
        "  makeIntegerParam(\"num_trees_max\", lower = 8L, upper = 128L),\n",
        "  makeNumericParam(\"feature_fraction\", lower = 0.2, upper = 1.0),\n",
        "  forbidden = quote(minbucket > 0.5 * minsplit)\n",
        ")\n",
        "\n",
        "# carpeta de trabajo (como en tu flujo)\n",
        "setwd(\"/content/buckets/b1/exp\")\n",
        "dir.create(PARAM$experimento, showWarnings = FALSE)\n",
        "setwd(paste0(\"/content/buckets/b1/exp/\", PARAM$experimento))\n",
        "\n",
        "# --- funciones utilitarias (copiadas y adaptadas) ---\n",
        "particionar <- function(data, division, agrupa = \"\", campo = \"fold\",\n",
        "                        start = 1, seed = NA) {\n",
        "  if (!is.na(seed)) set.seed(seed)\n",
        "  bloque <- unlist(mapply(function(x, y) rep(y, x), division,\n",
        "                          seq(from = start, length.out = length(division))))\n",
        "  data[, (campo) := sample(rep(bloque, ceiling(.N / length(bloque))))[1:.N],\n",
        "       by = agrupa]\n",
        "}\n",
        "\n",
        "# ArbolSimple ahora entrena un ENSEMBLE (num_trees_max) sobre dtrain y evalua en dtest\n",
        "ArbolSimple <- function(fold_test, param_rpart) {\n",
        "  # separo train/test segun fold\n",
        "  dtrain <- dataset[fold != fold_test, ]\n",
        "  dtest  <- dataset[fold == fold_test, ]\n",
        "\n",
        "  # preparo tb_prediccion para acumular probabilidades\n",
        "  tb_prediccion <- dtest[, .(numero_de_cliente)]\n",
        "  tb_prediccion[, prob_acumulada := 0]\n",
        "\n",
        "# OJO con parametros establecidos mas arriba, ver si se corrieron o no. Sino se pisan los hiperparametros\n",
        "  # parametros rpart (aseguro enteros donde corresponde)\n",
        "  rpart_ctrl <- list(\n",
        "    cp = param_rpart$cp,\n",
        "    minsplit = as.integer(param_rpart$minsplit),\n",
        "    minbucket = as.integer(param_rpart$minbucket),\n",
        "    maxdepth = as.integer(param_rpart$maxdepth)\n",
        "  )\n",
        "\n",
        "  num_trees <- as.integer(param_rpart$num_trees_max)\n",
        "  feat_frac  <- as.numeric(param_rpart$feature_fraction)\n",
        "\n",
        "  set.seed(PARAM$semilla_primigenia + fold_test) # semilla reproducible por fold\n",
        "\n",
        "  # campos disponibles (excluyo clase_ternaria y numero_de_cliente si existe)\n",
        "  campos_buenos <- setdiff(colnames(dtrain), c(\"clase_ternaria\", \"numero_de_cliente\", \"fold\"))\n",
        "\n",
        "  # bucle de arboles\n",
        "  for (arbolito in seq_len(num_trees)) {\n",
        "    qty_campos_a_utilizar <- max(1, as.integer(length(campos_buenos) * feat_frac))\n",
        "    campos_random <- sample(campos_buenos, qty_campos_a_utilizar)\n",
        "    formulita <- as.formula(paste(\"clase_ternaria ~\", paste(campos_random, collapse = \" + \")))\n",
        "\n",
        "    modelo <- rpart(formulita, data = dtrain, xval = 0, control = rpart_ctrl)\n",
        "\n",
        "    prediccion <- predict(modelo, dtest, type = \"prob\")\n",
        "    # si por alguna razon prediccion tiene NA, lo manejo\n",
        "    if (is.null(dim(prediccion))) {\n",
        "      # modelo falló; agrego 0s\n",
        "      probs_baja2 <- rep(0, nrow(dtest))\n",
        "    } else {\n",
        "      probs_baja2 <- prediccion[, \"BAJA+2\"]\n",
        "      probs_baja2[is.na(probs_baja2)] <- 0\n",
        "    }\n",
        "\n",
        "    tb_prediccion[, prob_acumulada := prob_acumulada + probs_baja2]\n",
        "  }\n",
        "\n",
        "  # umbral: (1/40) * num_trees   (misma lógica que tu script original)\n",
        "  umbral_corte <- (1 / 40) * num_trees\n",
        "  tb_prediccion[, Predicted := as.numeric(prob_acumulada > umbral_corte)]\n",
        "\n",
        "  # calculo la ganancia en este fold (NO normalizada)\n",
        "  # atención: en tu script original los premios eran 117000 y penal 3000 (aquí mantengo esa lógica)\n",
        "  dtest2 <- copy(dtest)\n",
        "  dtest2[, Predicted := tb_prediccion$Predicted]\n",
        "\n",
        "  ganancia_testing <- dtest2[Predicted == 1,\n",
        "                             sum(ifelse(clase_ternaria == \"BAJA+2\", 117000, -3000))]\n",
        "  # si no hay predicciones = 1, ganancia_testing será 0 (sum de vector vacío)\n",
        "  if (is.na(ganancia_testing)) ganancia_testing <- 0\n",
        "\n",
        "  return(ganancia_testing)\n",
        "}\n",
        "\n",
        "# función que ejecuta CV con m folds y promedia (como en tu ejemplo)\n",
        "ArbolesCrossValidation <- function(param_rpart, qfolds, pagrupa, semilla) {\n",
        "  divi <- rep(1, qfolds)\n",
        "  particionar(dataset, divi, seed = semilla, agrupa = pagrupa)\n",
        "  # multiproceso: mcmapply ejecuta ArbolSimple por fold\n",
        "  ganancias <- mcmapply(ArbolSimple,\n",
        "                        seq(qfolds),\n",
        "                        MoreArgs = list(param_rpart),\n",
        "                        SIMPLIFY = FALSE,\n",
        "                        mc.cores = detectCores())\n",
        "  dataset[, fold := NULL]\n",
        "  ganancia_promedio <- mean(unlist(ganancias))\n",
        "  # normalizo igual que vos: * qfolds\n",
        "  ganancia_promedio_normalizada <- ganancia_promedio * qfolds\n",
        "  return(ganancia_promedio_normalizada)\n",
        "}\n",
        "\n",
        "# función objetivo para la BO: recibe una lista x con los hiperparametros\n",
        "EstimarGanancia <- function(x) {\n",
        "  message(format(Sys.time(), \"%a %b %d %X %Y\"))\n",
        "  GLOBAL_iteracion <<- GLOBAL_iteracion + 1\n",
        "\n",
        "  xval_folds <- 5\n",
        "  # aseguro tipos adecuados (mlrMBO suele pasar numeric para enteros)\n",
        "  x$minsplit <- as.integer(x$minsplit)\n",
        "  x$minbucket <- as.integer(x$minbucket)\n",
        "  x$maxdepth <- as.integer(x$maxdepth)\n",
        "  x$num_trees_max <- as.integer(x$num_trees_max)\n",
        "  x$feature_fraction <- as.numeric(x$feature_fraction)\n",
        "\n",
        "  ganancia <- ArbolesCrossValidation(\n",
        "    param_rpart = x,\n",
        "    qfolds = xval_folds,\n",
        "    pagrupa = \"clase_ternaria\",\n",
        "    semilla = PARAM$semilla_primigenia\n",
        "  )\n",
        "\n",
        "  return(ganancia)\n",
        "}\n",
        "\n",
        "# --- LECTURA DEL DATASET (igual que tu flujo) ---\n",
        "dataset <- fread(\"/content/datasets/dataset_pequeno.csv\")\n",
        "\n",
        "# --- LOGGING / RESUMEN para retomar corridas ---\n",
        "archivo_log <- \"BO_log.txt\"\n",
        "archivo_BO  <- \"bayesian_rpart_ensemble.RDATA\"\n",
        "\n",
        "GLOBAL_iteracion <- 0\n",
        "GLOBAL_mejor <- -Inf\n",
        "\n",
        "if (file.exists(archivo_log)) {\n",
        "  tabla_log <- fread(archivo_log)\n",
        "  GLOBAL_iteracion <- nrow(tabla_log)\n",
        "  GLOBAL_mejor <- tabla_log[, max(ganancia)]\n",
        "}\n",
        "\n",
        "# --- CONFIGURACION MLR / MBO (igual a tu ejemplo) ---\n",
        "funcion_optimizar <- EstimarGanancia\n",
        "configureMlr(show.learner.output = FALSE)\n",
        "\n",
        "obj.fun <- makeSingleObjectiveFunction(\n",
        "  fn = funcion_optimizar,\n",
        "  minimize = FALSE,\n",
        "  noisy = TRUE,\n",
        "  par.set = PARAM$hs,\n",
        "  has.simple.signature = FALSE\n",
        ")\n",
        "\n",
        "ctrl <- makeMBOControl(save.on.disk.at.time = 600, save.file.path = archivo_BO)\n",
        "ctrl <- setMBOControlTermination(ctrl, iters = PARAM$BO_iter)\n",
        "ctrl <- setMBOControlInfill(ctrl, crit = makeMBOInfillCritEI())\n",
        "\n",
        "surr.km <- makeLearner(\"regr.km\", predict.type = \"se\",\n",
        "                      covtype = \"matern3_2\", control = list(trace = TRUE))\n",
        "\n",
        "# ejecución (o continuación si existe archivo)\n",
        "if (!file.exists(archivo_BO)) {\n",
        "  bayesiana_salida <- mbo(fun = obj.fun, learner = surr.km, control = ctrl)\n",
        "} else {\n",
        "  bayesiana_salida <- mboContinue(archivo_BO)\n",
        "}\n",
        "\n",
        "# --- guardo resultados y extraigo mejores hiperparametros ---\n",
        "tb_bayesiana <- as.data.table(bayesiana_salida$opt.path)\n",
        "setorder(tb_bayesiana, -y) # ordeno por ganancia descendente\n",
        "\n",
        "fwrite(tb_bayesiana, file = \"BO_log.txt\", sep = \"\\t\")\n",
        "\n",
        "# extraigo mejores hiperparametros (fila 1)\n",
        "best_row <- tb_bayesiana[1]\n",
        "PARAM$out <- list()\n",
        "PARAM$out$rpart_ensemble_mejores_hiperparametros <- best_row[, .(cp, minsplit, minbucket, maxdepth, num_trees_max, feature_fraction)]\n",
        "\n",
        "print(\"Mejores hiperparametros encontrados:\")\n",
        "print(PARAM$out$rpart_ensemble_mejores_hiperparametros)\n",
        "\n",
        "format(Sys.time(), \"%a %b %d %X %Y\")"
      ],
      "metadata": {
        "id": "3IanrQqaj23-",
        "outputId": "5157cb44-11ca-486b-bd70-d7e336fe9e00",
        "colab": {
          "base_uri": "https://localhost:8080/",
          "height": 110
        }
      },
      "execution_count": 9,
      "outputs": [
        {
          "output_type": "error",
          "ename": "ERROR",
          "evalue": "Error in library(mlr): there is no package called ‘mlr’\n",
          "traceback": [
            "Error in library(mlr): there is no package called ‘mlr’\nTraceback:\n",
            "1. stop(packageNotFoundError(package, lib.loc, sys.call()))"
          ]
        }
      ]
    }
  ]
}