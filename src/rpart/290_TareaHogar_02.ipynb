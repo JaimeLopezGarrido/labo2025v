{
  "nbformat": 4,
  "nbformat_minor": 0,
  "metadata": {
    "colab": {
      "provenance": [],
      "include_colab_link": true
    },
    "kernelspec": {
      "name": "python3",
      "display_name": "Python 3"
    },
    "language_info": {
      "name": "python"
    }
  },
  "cells": [
    {
      "cell_type": "markdown",
      "metadata": {
        "id": "view-in-github",
        "colab_type": "text"
      },
      "source": [
        "<a href=\"https://colab.research.google.com/github/JaimeLopezGarrido/labo2025v/blob/main/src/rpart/290_TareaHogar_02.ipynb\" target=\"_parent\"><img src=\"https://colab.research.google.com/assets/colab-badge.svg\" alt=\"Open In Colab\"/></a>"
      ]
    },
    {
      "cell_type": "markdown",
      "source": [
        "# Tarea para el Hogar 02"
      ],
      "metadata": {
        "id": "F3r8aa3pBigj"
      }
    },
    {
      "cell_type": "markdown",
      "source": [
        "Esta Tarea para el Hogar 02 se entrega el final de la segunda clase\n",
        "<br> se espera de usted que intente avanzar con los desafios propuestos y que los traiga terminados para la Clase 03, ya que se analizarán los resultados"
      ],
      "metadata": {
        "id": "nBm4ktHUBmZt"
      }
    },
    {
      "cell_type": "markdown",
      "source": [
        "##  1. Ensembles de Modelos"
      ],
      "metadata": {
        "id": "TK-M04ElCESC"
      }
    },
    {
      "cell_type": "markdown",
      "source": [
        "Vea el siguiente video [BBC - The Code - The Wisdom of the Crowd](https://www.youtube.com/watch?v=iOucwX7Z1HU)    ( 5 min)\n"
      ],
      "metadata": {
        "id": "biPYxgobCOSS"
      }
    },
    {
      "cell_type": "markdown",
      "source": [
        "Lea los siguientes artículos\n",
        "\n",
        "\n",
        "*   [The Wisdom of Crowds (Vox Populi) by Francis Galton](https://www.all-about-psychology.com/the-wisdom-of-crowds.html)  (10 min)\n",
        "*   [A Gentle Introduction to Ensemble Learning](https://machinelearningmastery.com/what-is-ensemble-learning/)  (10 min)\n",
        "\n"
      ],
      "metadata": {
        "id": "FBszBRyNCcjp"
      }
    },
    {
      "cell_type": "markdown",
      "source": [
        "\n",
        "\n",
        "---\n",
        "\n"
      ],
      "metadata": {
        "id": "x7SebtV2lpHQ"
      }
    },
    {
      "cell_type": "markdown",
      "source": [
        "##  2.  Zero2Hero   primera parte\n",
        "Se han lanzado los primeros fascículos coleccionables llamados \"from Zero to Hero\" que muy detalladamente, paso a paso enseñan todo lo necesario de R para entender los scripts oficiales de la asignatura.\n",
        "Están en el repositorio oficial de la asignatura, carpeta  **src/zero2hero**"
      ],
      "metadata": {
        "id": "NQcY8u2MDSLT"
      }
    },
    {
      "cell_type": "markdown",
      "source": [
        "\n",
        "\n",
        "---\n",
        "\n"
      ],
      "metadata": {
        "id": "GcO0OSiIEAGy"
      }
    },
    {
      "cell_type": "markdown",
      "source": [
        "## 3.  Grid Search"
      ],
      "metadata": {
        "id": "6MStcyn0EBdT"
      }
    },
    {
      "cell_type": "markdown",
      "source": [
        "Busque en internet el precido significado de los hiperparámetros de la librería **rpart**  que está implementando el algoritmo **CART**  Classification and Regression Trees  propuesto en el año 1984 por Leo Brieman:\n",
        "\n",
        "*   cp\n",
        "*   maxdepth\n",
        "*   minsplit\n",
        "*   minbucket\n",
        "\n",
        "Entienda que valores es razonable tome cada hiperparámetro,  en particular profundice en el hiperparámetro  **cp**  y la posibilidad que tome valores negativos.  Es válido consultar a su amigo de *capacidades especiales*  ChatGPT\n"
      ],
      "metadata": {
        "id": "gM8RKXDgEIY0"
      }
    },
    {
      "cell_type": "markdown",
      "source": [
        "En las siguientes celdas a un notebook incompleto, un esqueleto de codigo brindado a modo de facilitarle la tarea de codeo y permitir que su valiosa cognición se concentre temas conceptuales de Ciencia de Datos\n",
        "\n",
        "Modifiquelo agregando loops para que recorra TODOS los hiperparámetros de rpart  < cp, maxdepth, minsplit, minbucket >, y luego póngalo a correr. Recuerde cambiar por SU semilla\n",
        "Tenga muy presente la granularidad que eligirá para cada hiperparámetro."
      ],
      "metadata": {
        "id": "_k7eT3HIFy9y"
      }
    },
    {
      "cell_type": "markdown",
      "source": [
        "### Seteo del ambiente en Google Colab"
      ],
      "metadata": {
        "id": "kmLygy1TYPfg"
      }
    },
    {
      "cell_type": "markdown",
      "source": [
        "Esta parte se debe correr con el runtime en Python3\n",
        "<br>Ir al menu, Runtime -> Change Runtime Tipe -> Runtime type ->  **Python 3**"
      ],
      "metadata": {
        "id": "OikOm5K2YU3X"
      }
    },
    {
      "cell_type": "markdown",
      "source": [
        "Conectar la virtual machine donde esta corriendo Google Colab con el  Google Drive, para poder tener persistencia de archivos"
      ],
      "metadata": {
        "id": "4fmV5LyZdFyI"
      }
    },
    {
      "cell_type": "code",
      "source": [
        "# primero establecer el Runtime de Python 3\n",
        "from google.colab import drive\n",
        "drive.mount('/content/.drive')"
      ],
      "metadata": {
        "id": "ilEZ-bE2VybW"
      },
      "execution_count": null,
      "outputs": []
    },
    {
      "cell_type": "markdown",
      "source": [
        "Para correr la siguiente celda es fundamental en Arranque en Frio haber copiado el archivo kaggle.json al Google Drive, en la carpeta indicada en el instructivo\n",
        "\n",
        "<br>los siguientes comando estan en shell script de Linux\n",
        "*   Crear las carpetas en el Google Drive\n",
        "*   \"instalar\" el archivo kaggle.json desde el Google Drive a la virtual machine para que pueda ser utilizado por la libreria  kaggle de Python\n",
        "*   Bajar el  **dataset_pequeno**  al  Google Drive  y tambien al disco local de la virtual machine que esta corriendo Google Colab\n",
        "\n"
      ],
      "metadata": {
        "id": "ilaKtqWldeWg"
      }
    },
    {
      "cell_type": "code",
      "source": [
        "%%shell\n",
        "\n",
        "mkdir -p \"/content/.drive/My Drive/labo1\"\n",
        "mkdir -p \"/content/buckets\"\n",
        "ln -s \"/content/.drive/My Drive/labo1\" /content/buckets/b1\n",
        "\n",
        "mkdir -p ~/.kaggle\n",
        "cp /content/buckets/b1/kaggle/kaggle.json  ~/.kaggle\n",
        "chmod 600 ~/.kaggle/kaggle.json\n",
        "\n",
        "\n",
        "mkdir -p /content/buckets/b1/exp\n",
        "mkdir -p /content/buckets/b1/datasets\n",
        "mkdir -p /content/datasets\n",
        "\n",
        "\n",
        "\n",
        "archivo_origen=\"https://storage.googleapis.com/open-courses/austral2025-af91/dataset_pequeno.csv\"\n",
        "archivo_destino=\"/content/datasets/dataset_pequeno.csv\"\n",
        "archivo_destino_bucket=\"/content/buckets/b1/datasets/dataset_pequeno.csv\"\n",
        "\n",
        "if ! test -f $archivo_destino_bucket; then\n",
        "  wget  $archivo_origen  -O $archivo_destino_bucket\n",
        "fi\n",
        "\n",
        "\n",
        "if ! test -f $archivo_destino; then\n",
        "  cp  $archivo_destino_bucket  $archivo_destino\n",
        "fi\n",
        "\n"
      ],
      "metadata": {
        "id": "W8dQFI5QYCFa",
        "colab": {
          "base_uri": "https://localhost:8080/"
        },
        "outputId": "b943fe35-0f92-46ec-cfeb-27255606dc0d"
      },
      "execution_count": 2,
      "outputs": [
        {
          "output_type": "stream",
          "name": "stdout",
          "text": [
            "ln: failed to create symbolic link '/content/buckets/b1/labo1': File exists\n"
          ]
        },
        {
          "output_type": "execute_result",
          "data": {
            "text/plain": []
          },
          "metadata": {},
          "execution_count": 2
        }
      ]
    },
    {
      "cell_type": "markdown",
      "source": [
        "limpio el ambiente de R"
      ],
      "metadata": {
        "id": "SE94XRhWsxkX"
      }
    },
    {
      "cell_type": "code",
      "source": [
        "# limpio la memoria\n",
        "rm(list=ls(all.names=TRUE)) # remove all objects\n",
        "gc(full=TRUE, verbose=FALSE) # garbage collection"
      ],
      "metadata": {
        "id": "oZG_4br6szlT",
        "colab": {
          "base_uri": "https://localhost:8080/",
          "height": 129
        },
        "outputId": "29d5ef65-0bbc-43cd-a5df-9c1e7ef7a0aa"
      },
      "execution_count": 1,
      "outputs": [
        {
          "output_type": "display_data",
          "data": {
            "text/html": [
              "<table class=\"dataframe\">\n",
              "<caption>A matrix: 2 × 6 of type dbl</caption>\n",
              "<thead>\n",
              "\t<tr><th></th><th scope=col>used</th><th scope=col>(Mb)</th><th scope=col>gc trigger</th><th scope=col>(Mb)</th><th scope=col>max used</th><th scope=col>(Mb)</th></tr>\n",
              "</thead>\n",
              "<tbody>\n",
              "\t<tr><th scope=row>Ncells</th><td> 657244</td><td>35.2</td><td>1454474</td><td>77.7</td><td>1326133</td><td>70.9</td></tr>\n",
              "\t<tr><th scope=row>Vcells</th><td>1220271</td><td> 9.4</td><td>8388608</td><td>64.0</td><td>1975128</td><td>15.1</td></tr>\n",
              "</tbody>\n",
              "</table>\n"
            ],
            "text/markdown": "\nA matrix: 2 × 6 of type dbl\n\n| <!--/--> | used | (Mb) | gc trigger | (Mb) | max used | (Mb) |\n|---|---|---|---|---|---|---|\n| Ncells |  657244 | 35.2 | 1454474 | 77.7 | 1326133 | 70.9 |\n| Vcells | 1220271 |  9.4 | 8388608 | 64.0 | 1975128 | 15.1 |\n\n",
            "text/latex": "A matrix: 2 × 6 of type dbl\n\\begin{tabular}{r|llllll}\n  & used & (Mb) & gc trigger & (Mb) & max used & (Mb)\\\\\n\\hline\n\tNcells &  657244 & 35.2 & 1454474 & 77.7 & 1326133 & 70.9\\\\\n\tVcells & 1220271 &  9.4 & 8388608 & 64.0 & 1975128 & 15.1\\\\\n\\end{tabular}\n",
            "text/plain": [
              "       used    (Mb) gc trigger (Mb) max used (Mb)\n",
              "Ncells  657244 35.2 1454474    77.7 1326133  70.9\n",
              "Vcells 1220271  9.4 8388608    64.0 1975128  15.1"
            ]
          },
          "metadata": {}
        }
      ]
    },
    {
      "cell_type": "code",
      "source": [
        "# cargo las librerias que necesito\n",
        "require(\"data.table\")\n",
        "require(\"rpart\")\n",
        "require(\"parallel\")\n",
        "if (!require(\"primes\")) install.packages(\"primes\")\n",
        "require(\"primes\")"
      ],
      "metadata": {
        "id": "JO-12d7YHkWy",
        "outputId": "ea845161-ae69-4d6e-9d61-dac92f4e79f0",
        "colab": {
          "base_uri": "https://localhost:8080/"
        }
      },
      "execution_count": 2,
      "outputs": [
        {
          "output_type": "stream",
          "name": "stderr",
          "text": [
            "Loading required package: data.table\n",
            "\n",
            "Loading required package: rpart\n",
            "\n",
            "Loading required package: parallel\n",
            "\n",
            "Loading required package: primes\n",
            "\n"
          ]
        }
      ]
    },
    {
      "cell_type": "markdown",
      "source": [
        "Aqui debe poner SU semiila primigenia"
      ],
      "metadata": {
        "id": "0MclPEJ6Q8Bp"
      }
    },
    {
      "cell_type": "code",
      "source": [
        "#PARAM <- list()\n",
        "# reemplazar por su primer semilla\n",
        "#PARAM$semilla_primigenia <- c(100007)\n",
        "#PARAM$qsemillas <- 1\n",
        "\n",
        "#PARAM$training_pct <- 70L  # entre  1L y 99L\n",
        "\n",
        "# elegir SU dataset comentando/ descomentando\n",
        "#PARAM$dataset_nom <- \"~/datasets/dataset_pequeno.csv\"\n",
        "\n",
        "\n",
        "# -------------------------------------------------------------\n",
        "# CONFIGURACIÓN DE PARÁMETROS Y SEMILLA\n",
        "# -------------------------------------------------------------\n",
        "\n",
        "PARAM <- list()\n",
        "\n",
        "# Defino la semilla principal\n",
        "PARAM$semilla_primigenia <- 100007\n",
        "\n",
        "# Si querés usar varias semillas en tus experimentos Montecarlo, las definís acá:\n",
        "PARAM$semillas <- c(PARAM$semilla_primigenia)\n",
        "PARAM$qsemillas <- length(PARAM$semillas)\n",
        "\n",
        "# Porcentaje del dataset para entrenamiento\n",
        "PARAM$training_pct <- 70L  # entre 1L y 99L\n",
        "\n",
        "# Dataset a utilizar\n",
        "PARAM$dataset_nom <- \"~/datasets/dataset_pequeno.csv\"\n",
        "\n",
        "# Establezco la semilla activa en R (clave para reproducibilidad)\n",
        "set.seed(PARAM$semilla_primigenia)\n",
        "\n",
        "# Verifico qué semilla quedó activa\n",
        "cat(\"✅ Semilla activa:\", .Random.seed[1], \" (esperado:\", PARAM$semilla_primigenia, \")\\n\")"
      ],
      "metadata": {
        "id": "Vt5fC6bWHu5r",
        "colab": {
          "base_uri": "https://localhost:8080/"
        },
        "outputId": "9f1f1f36-af54-4d98-d85e-29f923d43c45"
      },
      "execution_count": 36,
      "outputs": [
        {
          "output_type": "stream",
          "name": "stdout",
          "text": [
            "✅ Semilla activa: 10403  (esperado: 100007 )\n"
          ]
        }
      ]
    },
    {
      "cell_type": "code",
      "source": [
        "# particionar agrega una columna llamada fold a un dataset\n",
        "#  que consiste en una particion estratificada segun agrupa\n",
        "# particionar( data=dataset, division=c(70,30), agrupa=clase_ternaria, seed=semilla)\n",
        "#   crea una particion 70, 30\n",
        "\n",
        "particionar <- function(data, division, agrupa = \"\", campo = \"fold\", start = 1, seed = NA) {\n",
        "  if (!is.na(seed)) set.seed(seed)\n",
        "\n",
        "  bloque <- unlist(mapply(function(x, y) {\n",
        "    rep(y, x)\n",
        "  }, division, seq(from = start, length.out = length(division))))\n",
        "\n",
        "  data[, (campo) := sample(rep(bloque, ceiling(.N / length(bloque))))[1:.N],\n",
        "    by = agrupa\n",
        "  ]\n",
        "}\n"
      ],
      "metadata": {
        "id": "Z1dchsrWH4MD"
      },
      "execution_count": 37,
      "outputs": []
    },
    {
      "cell_type": "code",
      "source": [
        "ArbolEstimarGanancia <- function(semilla, training_pct, param_basicos) {\n",
        "  # particiono estratificadamente el dataset\n",
        "  particionar(dataset,\n",
        "    division = c(training_pct, 100L -training_pct),\n",
        "    agrupa = \"clase_ternaria\",\n",
        "    seed = semilla # aqui se usa SU semilla\n",
        "  )\n",
        "\n",
        "  # genero el modelo\n",
        "  # predecir clase_ternaria a partir del resto\n",
        "  modelo <- rpart(\"clase_ternaria ~ .\",\n",
        "    data = dataset[fold == 1], # fold==1  es training,  el 70% de los datos\n",
        "    xval = 0,\n",
        "    control = param_basicos\n",
        "  ) # aqui van los parametros del arbol\n",
        "\n",
        "  # aplico el modelo a los datos de testing\n",
        "  prediccion <- predict(modelo, # el modelo que genere recien\n",
        "    dataset[fold == 2], # fold==2  es testing, el 30% de los datos\n",
        "    type = \"prob\"\n",
        "  ) # type= \"prob\"  es que devuelva la probabilidad\n",
        "\n",
        "  # prediccion es una matriz con TRES columnas,\n",
        "  #  llamadas \"BAJA+1\", \"BAJA+2\"  y \"CONTINUA\"\n",
        "  # cada columna es el vector de probabilidades\n",
        "\n",
        "\n",
        "  # calculo la ganancia en testing  qu es fold==2\n",
        "  ganancia_test <- dataset[\n",
        "    fold == 2,\n",
        "    sum(ifelse(prediccion[, \"BAJA+2\"] > 0.025,\n",
        "      ifelse(clase_ternaria == \"BAJA+2\", 117000, -3000),\n",
        "      0\n",
        "    ))\n",
        "  ]\n",
        "\n",
        "  # escalo la ganancia como si fuera todo el dataset\n",
        "  ganancia_test_normalizada <- ganancia_test / (( 100 - PARAM$training_pct ) / 100 )\n",
        "\n",
        "  return(\n",
        "    c( list(\"semilla\" = semilla),\n",
        "      param_basicos,\n",
        "      list( \"ganancia_test\" = ganancia_test_normalizada )\n",
        "     )\n",
        "  )\n",
        "}\n"
      ],
      "metadata": {
        "id": "xsHwS1CzIA70"
      },
      "execution_count": 38,
      "outputs": []
    },
    {
      "cell_type": "code",
      "source": [
        "ArbolesMontecarlo <- function(semillas, param_basicos) {\n",
        "\n",
        "  # la funcion mcmapply  llama a la funcion ArbolEstimarGanancia\n",
        "  #  tantas veces como valores tenga el vector  PARAM$semillas\n",
        "  salida <- mcmapply(ArbolEstimarGanancia,\n",
        "    semillas, # paso el vector de semillas\n",
        "    MoreArgs = list(PARAM$training_pct, param_basicos), # aqui paso el segundo parametro\n",
        "    SIMPLIFY = FALSE,\n",
        "    mc.cores = detectCores()\n",
        "  )\n",
        "\n",
        "  return(salida)\n",
        "}\n",
        "\n",
        "\n"
      ],
      "metadata": {
        "id": "BvBVOuhqIEjD"
      },
      "execution_count": 39,
      "outputs": []
    },
    {
      "cell_type": "code",
      "source": [
        "# carpeta de trabajo\n",
        "# por favor cambiar numero de experimento si se cambia el loop principal\n",
        "setwd(\"/content/buckets/b1/exp\")\n",
        "experimento <- \"HT2900\"\n",
        "dir.create(experimento, showWarnings=FALSE)\n",
        "setwd( paste0(\"/content/buckets/b1/exp/\", experimento ))"
      ],
      "metadata": {
        "id": "L-DOGHOjIG7G"
      },
      "execution_count": 40,
      "outputs": []
    },
    {
      "cell_type": "code",
      "source": [
        "# lectura del dataset\n",
        "dataset <- fread(\"/content/datasets/dataset_pequeno.csv\")\n",
        "\n",
        "# trabajo solo con los datos con clase, es decir 202107\n",
        "dataset <- dataset[clase_ternaria != \"\"]"
      ],
      "metadata": {
        "id": "NM-mrLWcIPo6"
      },
      "execution_count": 41,
      "outputs": []
    },
    {
      "cell_type": "code",
      "source": [
        "\n",
        "# genero numeros primos\n",
        "primos <- generate_primes(min = 100000, max = 1000000)\n",
        "set.seed(PARAM$semilla_primigenia) # inicializo\n",
        "# me quedo con PARAM$qsemillas   semillas\n",
        "PARAM$semillas <- sample(primos, PARAM$qsemillas )\n"
      ],
      "metadata": {
        "id": "tSlY0EcgIWdi"
      },
      "execution_count": 42,
      "outputs": []
    },
    {
      "cell_type": "code",
      "source": [
        "# genero la data.table donde van los resultados detallados del Grid Search\n",
        "# un registro para cada combinacion de < semilla, parametros >\n",
        "\n",
        "if(file.exists(\"gridsearch_detalle.txt\")){\n",
        "  tb_grid_search_detalle <- fread(\"gridsearch_detalle.txt\")\n",
        "}else{\n",
        "  tb_grid_search_detalle <- data.table(\n",
        "    semilla = integer(),\n",
        "    cp = numeric(),\n",
        "    maxdepth = integer(),\n",
        "   minsplit = integer(),\n",
        "    minbucket = integer(),\n",
        "    ganancia_test = numeric()\n",
        "  )\n",
        "}\n",
        "\n",
        "nrow( tb_grid_search_detalle )"
      ],
      "metadata": {
        "id": "xxCAwIKyIaTl",
        "colab": {
          "base_uri": "https://localhost:8080/",
          "height": 34
        },
        "outputId": "e3b41105-478a-4289-cfd1-e007c2dd6ecc"
      },
      "execution_count": 43,
      "outputs": [
        {
          "output_type": "display_data",
          "data": {
            "text/html": [
              "24"
            ],
            "text/markdown": "24",
            "text/latex": "24",
            "text/plain": [
              "[1] 24"
            ]
          },
          "metadata": {}
        }
      ]
    },
    {
      "cell_type": "markdown",
      "source": [
        "Esta es la parte del código que usted debe expandir a TODOS los hiperparámetros de rpart,\n",
        "<br>ya que actualmente apenas recorre  maxdepth y  minsplit  dejando fijos  cp=-0.5  y minbucket=5"
      ],
      "metadata": {
        "id": "eAuGBNL8IkOD"
      }
    },
    {
      "cell_type": "code",
      "source": [
        "library(data.table)\n",
        "\n",
        "# -------------------------------------------------------------\n",
        "# CONFIGURACIÓN INICIAL\n",
        "# -------------------------------------------------------------\n",
        "\n",
        "archivo_grid <- \"gridsearch_detalle.txt\"\n",
        "\n",
        "# Cargo histórico si existe\n",
        "if (file.exists(archivo_grid)) {\n",
        "  tb_grid_search_detalle <- fread(archivo_grid)\n",
        "  cat(\"Histórico cargado. Filas previas:\", nrow(tb_grid_search_detalle), \"\\n\")\n",
        "} else {\n",
        "  tb_grid_search_detalle <- data.table()\n",
        "  cat(\"No existe archivo previo. Se creará uno nuevo.\\n\")\n",
        "}\n",
        "\n",
        "iter <- 0\n",
        "tb_nuevos_resultados <- data.table()\n",
        "\n",
        "# -------------------------------------------------------------\n",
        "# GRID SEARCH\n",
        "# -------------------------------------------------------------\n",
        "\n",
        "for (vcp in c(-1, -0.5)) {\n",
        "  for (vmax_depth in c(11, 6)) {\n",
        "    for (vmin_split in c(650, 1100)) {\n",
        "      for (vmin_bucket in c(500, 700)) {\n",
        "\n",
        "        iter <- iter + 1\n",
        "        cat(\"Iteración:\", iter, \"\\n\")\n",
        "        flush.console()\n",
        "\n",
        "        # Defino hiperparámetros actuales\n",
        "        param_basicos <- list(\n",
        "          cp = vcp,\n",
        "          maxdepth = vmax_depth,\n",
        "          minsplit = vmin_split,\n",
        "          minbucket = vmin_bucket\n",
        "        )\n",
        "\n",
        "        # Llamo a la función Montecarlo\n",
        "        ganancias <- ArbolesMontecarlo(PARAM$semillas, param_basicos)\n",
        "\n",
        "        # Si no devuelve nada, sigo\n",
        "        if (is.null(ganancias) || length(ganancias) == 0) {\n",
        "          cat(\"  ⚠️  Sin resultados para esta combinación, se omite.\\n\")\n",
        "          next\n",
        "        }\n",
        "\n",
        "        # Combino los resultados\n",
        "        tb_resultados_iter <- rbindlist(ganancias, fill = TRUE)\n",
        "\n",
        "        # Agrego hiperparámetros\n",
        "        tb_resultados_iter[, `:=`(\n",
        "          cp = vcp,\n",
        "          maxdepth = vmax_depth,\n",
        "          minsplit = vmin_split,\n",
        "          minbucket = vmin_bucket\n",
        "        )]\n",
        "\n",
        "        # Acumulo\n",
        "        tb_nuevos_resultados <- rbind(tb_nuevos_resultados, tb_resultados_iter, fill = TRUE)\n",
        "      }\n",
        "    }\n",
        "  }\n",
        "}\n",
        "\n",
        "# -------------------------------------------------------------\n",
        "# GUARDADO FINAL\n",
        "# -------------------------------------------------------------\n",
        "\n",
        "if (nrow(tb_nuevos_resultados) > 0) {\n",
        "  cols_unicas <- c(\"cp\", \"maxdepth\", \"minsplit\", \"minbucket\")\n",
        "\n",
        "  tb_combinada <- unique(rbind(tb_grid_search_detalle, tb_nuevos_resultados, fill = TRUE), by = cols_unicas)\n",
        "\n",
        "  fwrite(tb_combinada, file = archivo_grid, sep = \"\\t\")\n",
        "\n",
        "  cat(\"\\n✅ Guardado completo.\\n\")\n",
        "  cat(\"Filas nuevas:\", nrow(tb_nuevos_resultados), \"\\n\")\n",
        "  cat(\"Total acumulado:\", nrow(tb_combinada), \"\\n\")\n",
        "\n",
        "  tb_grid_search_detalle <- tb_combinada\n",
        "\n",
        "} else {\n",
        "  cat(\"\\n⚠️ No se generaron resultados nuevos. No se guardó nada.\\n\")\n",
        "}"
      ],
      "metadata": {
        "id": "ipLHm3STIfmb",
        "colab": {
          "base_uri": "https://localhost:8080/",
          "height": 110
        },
        "outputId": "9d212cf8-55ce-4f1f-87e5-e9e6bd973e15"
      },
      "execution_count": 1,
      "outputs": [
        {
          "output_type": "stream",
          "name": "stdout",
          "text": [
            "No existe archivo previo. Se creará uno nuevo.\n",
            "Iteración: 1 \n"
          ]
        },
        {
          "output_type": "error",
          "ename": "ERROR",
          "evalue": "Error in ArbolesMontecarlo(PARAM$semillas, param_basicos): could not find function \"ArbolesMontecarlo\"\n",
          "traceback": [
            "Error in ArbolesMontecarlo(PARAM$semillas, param_basicos): could not find function \"ArbolesMontecarlo\"\nTraceback:\n"
          ]
        }
      ]
    },
    {
      "cell_type": "code",
      "source": [
        "fwrite( tb_grid_search_detalle,\n",
        "   file = \"gridsearch_detalle.txt\",\n",
        "   sep = \"\\t\"\n",
        ")"
      ],
      "metadata": {
        "id": "WZaSqYBxiDFu"
      },
      "execution_count": 85,
      "outputs": []
    },
    {
      "cell_type": "code",
      "source": [
        "# cantidad de registros de la tabla\n",
        "nrow(tb_grid_search_detalle)"
      ],
      "metadata": {
        "id": "STp0duM-RYVJ",
        "colab": {
          "base_uri": "https://localhost:8080/",
          "height": 34
        },
        "outputId": "f35f2585-ba3a-4182-c564-f3aa522896d9"
      },
      "execution_count": 86,
      "outputs": [
        {
          "output_type": "display_data",
          "data": {
            "text/html": [
              "64"
            ],
            "text/markdown": "64",
            "text/latex": "64",
            "text/plain": [
              "[1] 64"
            ]
          },
          "metadata": {}
        }
      ]
    },
    {
      "cell_type": "code",
      "source": [
        "# muestro la tabla\n",
        "tb_grid_search_detalle"
      ],
      "metadata": {
        "id": "k7fhk_H0iNez",
        "colab": {
          "base_uri": "https://localhost:8080/",
          "height": 1000
        },
        "outputId": "e7bfa38c-d00f-42b2-e17a-f3a2f26a289c"
      },
      "execution_count": 87,
      "outputs": [
        {
          "output_type": "display_data",
          "data": {
            "text/html": [
              "<table class=\"dataframe\">\n",
              "<caption>A data.table: 64 × 6</caption>\n",
              "<thead>\n",
              "\t<tr><th scope=col>semilla</th><th scope=col>cp</th><th scope=col>maxdepth</th><th scope=col>minsplit</th><th scope=col>minbucket</th><th scope=col>ganancia_test</th></tr>\n",
              "\t<tr><th scope=col>&lt;int&gt;</th><th scope=col>&lt;dbl&gt;</th><th scope=col>&lt;dbl&gt;</th><th scope=col>&lt;dbl&gt;</th><th scope=col>&lt;dbl&gt;</th><th scope=col>&lt;dbl&gt;</th></tr>\n",
              "</thead>\n",
              "<tbody>\n",
              "\t<tr><td>817127</td><td>-0.5</td><td>10</td><td>750</td><td> 41</td><td>44890000</td></tr>\n",
              "\t<tr><td>817127</td><td>-0.5</td><td> 6</td><td> 20</td><td> 10</td><td>46070000</td></tr>\n",
              "\t<tr><td>817127</td><td>-0.5</td><td> 6</td><td> 10</td><td>  5</td><td>48030000</td></tr>\n",
              "\t<tr><td>817127</td><td>-0.5</td><td> 6</td><td> 10</td><td> 10</td><td>46070000</td></tr>\n",
              "\t<tr><td>817127</td><td>-0.5</td><td> 8</td><td> 20</td><td>  5</td><td>43980000</td></tr>\n",
              "\t<tr><td>817127</td><td>-0.5</td><td> 8</td><td> 20</td><td> 10</td><td>44810000</td></tr>\n",
              "\t<tr><td>817127</td><td>-0.5</td><td> 8</td><td> 10</td><td>  5</td><td>44170000</td></tr>\n",
              "\t<tr><td>817127</td><td>-0.5</td><td> 8</td><td> 10</td><td> 10</td><td>44810000</td></tr>\n",
              "\t<tr><td>817127</td><td>-0.5</td><td> 7</td><td> 30</td><td> 12</td><td>43680000</td></tr>\n",
              "\t<tr><td>817127</td><td>-0.5</td><td> 7</td><td> 30</td><td> 20</td><td>45100000</td></tr>\n",
              "\t<tr><td>817127</td><td>-0.5</td><td> 7</td><td> 40</td><td> 12</td><td>44030000</td></tr>\n",
              "\t<tr><td>817127</td><td>-0.5</td><td> 7</td><td> 40</td><td> 20</td><td>45100000</td></tr>\n",
              "\t<tr><td>817127</td><td>-0.5</td><td> 9</td><td> 30</td><td> 12</td><td>41900000</td></tr>\n",
              "\t<tr><td>817127</td><td>-0.5</td><td> 9</td><td> 30</td><td> 20</td><td>41510000</td></tr>\n",
              "\t<tr><td>817127</td><td>-0.5</td><td> 9</td><td> 40</td><td> 12</td><td>42790000</td></tr>\n",
              "\t<tr><td>817127</td><td>-0.5</td><td> 9</td><td> 40</td><td> 20</td><td>41510000</td></tr>\n",
              "\t<tr><td>817127</td><td>-0.5</td><td>10</td><td>100</td><td>100</td><td>46720000</td></tr>\n",
              "\t<tr><td>817127</td><td>-0.5</td><td>10</td><td>100</td><td>200</td><td>48600000</td></tr>\n",
              "\t<tr><td>817127</td><td>-0.5</td><td>10</td><td>200</td><td>100</td><td>46720000</td></tr>\n",
              "\t<tr><td>817127</td><td>-0.5</td><td>10</td><td>200</td><td>200</td><td>48600000</td></tr>\n",
              "\t<tr><td>817127</td><td>-0.5</td><td>12</td><td>100</td><td>100</td><td>42690000</td></tr>\n",
              "\t<tr><td>817127</td><td>-0.5</td><td>12</td><td>100</td><td>200</td><td>46420000</td></tr>\n",
              "\t<tr><td>817127</td><td>-0.5</td><td>12</td><td>200</td><td>100</td><td>42690000</td></tr>\n",
              "\t<tr><td>817127</td><td>-0.5</td><td>12</td><td>200</td><td>200</td><td>46420000</td></tr>\n",
              "\t<tr><td>817127</td><td>-0.5</td><td>10</td><td>300</td><td>400</td><td>49510000</td></tr>\n",
              "\t<tr><td>817127</td><td>-0.5</td><td>10</td><td>300</td><td>500</td><td>48580000</td></tr>\n",
              "\t<tr><td>817127</td><td>-0.5</td><td>10</td><td>400</td><td>400</td><td>49510000</td></tr>\n",
              "\t<tr><td>817127</td><td>-0.5</td><td>10</td><td>400</td><td>500</td><td>48580000</td></tr>\n",
              "\t<tr><td>817127</td><td>-0.5</td><td>12</td><td>300</td><td>400</td><td>46840000</td></tr>\n",
              "\t<tr><td>817127</td><td>-0.5</td><td>12</td><td>300</td><td>500</td><td>46230000</td></tr>\n",
              "\t<tr><td>⋮</td><td>⋮</td><td>⋮</td><td>⋮</td><td>⋮</td><td>⋮</td></tr>\n",
              "\t<tr><td>817127</td><td>-0.5</td><td> 8</td><td> 600</td><td>100</td><td>43690000</td></tr>\n",
              "\t<tr><td>817127</td><td>-0.5</td><td> 8</td><td> 600</td><td>200</td><td>48390000</td></tr>\n",
              "\t<tr><td>817127</td><td>-0.5</td><td>10</td><td> 500</td><td>100</td><td>44700000</td></tr>\n",
              "\t<tr><td>817127</td><td>-0.5</td><td>10</td><td> 500</td><td>200</td><td>46700000</td></tr>\n",
              "\t<tr><td>817127</td><td>-0.5</td><td>10</td><td> 600</td><td>100</td><td>43470000</td></tr>\n",
              "\t<tr><td>817127</td><td>-0.5</td><td>10</td><td> 600</td><td>200</td><td>47560000</td></tr>\n",
              "\t<tr><td>817127</td><td>-0.5</td><td>12</td><td> 700</td><td>300</td><td>47900000</td></tr>\n",
              "\t<tr><td>817127</td><td>-0.5</td><td>12</td><td> 700</td><td>200</td><td>45270000</td></tr>\n",
              "\t<tr><td>817127</td><td>-0.5</td><td>12</td><td> 600</td><td>300</td><td>49260000</td></tr>\n",
              "\t<tr><td>817127</td><td>-0.5</td><td>12</td><td> 600</td><td>200</td><td>45380000</td></tr>\n",
              "\t<tr><td>817127</td><td>-0.5</td><td> 4</td><td> 700</td><td>300</td><td>48880000</td></tr>\n",
              "\t<tr><td>817127</td><td>-0.5</td><td> 4</td><td> 700</td><td>200</td><td>48880000</td></tr>\n",
              "\t<tr><td>817127</td><td>-0.5</td><td> 4</td><td> 600</td><td>300</td><td>48880000</td></tr>\n",
              "\t<tr><td>817127</td><td>-0.5</td><td> 4</td><td> 600</td><td>200</td><td>48880000</td></tr>\n",
              "\t<tr><td>817127</td><td>-1.0</td><td>12</td><td> 700</td><td>300</td><td>47900000</td></tr>\n",
              "\t<tr><td>817127</td><td>-1.0</td><td>12</td><td> 700</td><td>200</td><td>45270000</td></tr>\n",
              "\t<tr><td>817127</td><td>-1.0</td><td>12</td><td> 600</td><td>300</td><td>49260000</td></tr>\n",
              "\t<tr><td>817127</td><td>-1.0</td><td>12</td><td> 600</td><td>200</td><td>45380000</td></tr>\n",
              "\t<tr><td>817127</td><td>-1.0</td><td> 4</td><td> 700</td><td>300</td><td>48880000</td></tr>\n",
              "\t<tr><td>817127</td><td>-1.0</td><td> 4</td><td> 700</td><td>200</td><td>48880000</td></tr>\n",
              "\t<tr><td>817127</td><td>-1.0</td><td> 4</td><td> 600</td><td>300</td><td>48880000</td></tr>\n",
              "\t<tr><td>817127</td><td>-1.0</td><td> 4</td><td> 600</td><td>200</td><td>48880000</td></tr>\n",
              "\t<tr><td>817127</td><td>-1.0</td><td> 6</td><td> 900</td><td>300</td><td>49510000</td></tr>\n",
              "\t<tr><td>817127</td><td>-1.0</td><td> 6</td><td> 900</td><td>200</td><td>49700000</td></tr>\n",
              "\t<tr><td>817127</td><td>-1.0</td><td> 6</td><td>1000</td><td>300</td><td>49510000</td></tr>\n",
              "\t<tr><td>817127</td><td>-1.0</td><td> 6</td><td>1000</td><td>200</td><td>49700000</td></tr>\n",
              "\t<tr><td>817127</td><td>-1.0</td><td> 8</td><td> 900</td><td>300</td><td>48510000</td></tr>\n",
              "\t<tr><td>817127</td><td>-1.0</td><td> 8</td><td> 900</td><td>200</td><td>48920000</td></tr>\n",
              "\t<tr><td>817127</td><td>-1.0</td><td> 8</td><td>1000</td><td>300</td><td>49940000</td></tr>\n",
              "\t<tr><td>817127</td><td>-1.0</td><td> 8</td><td>1000</td><td>200</td><td>49660000</td></tr>\n",
              "</tbody>\n",
              "</table>\n"
            ],
            "text/markdown": "\nA data.table: 64 × 6\n\n| semilla &lt;int&gt; | cp &lt;dbl&gt; | maxdepth &lt;dbl&gt; | minsplit &lt;dbl&gt; | minbucket &lt;dbl&gt; | ganancia_test &lt;dbl&gt; |\n|---|---|---|---|---|---|\n| 817127 | -0.5 | 10 | 750 |  41 | 44890000 |\n| 817127 | -0.5 |  6 |  20 |  10 | 46070000 |\n| 817127 | -0.5 |  6 |  10 |   5 | 48030000 |\n| 817127 | -0.5 |  6 |  10 |  10 | 46070000 |\n| 817127 | -0.5 |  8 |  20 |   5 | 43980000 |\n| 817127 | -0.5 |  8 |  20 |  10 | 44810000 |\n| 817127 | -0.5 |  8 |  10 |   5 | 44170000 |\n| 817127 | -0.5 |  8 |  10 |  10 | 44810000 |\n| 817127 | -0.5 |  7 |  30 |  12 | 43680000 |\n| 817127 | -0.5 |  7 |  30 |  20 | 45100000 |\n| 817127 | -0.5 |  7 |  40 |  12 | 44030000 |\n| 817127 | -0.5 |  7 |  40 |  20 | 45100000 |\n| 817127 | -0.5 |  9 |  30 |  12 | 41900000 |\n| 817127 | -0.5 |  9 |  30 |  20 | 41510000 |\n| 817127 | -0.5 |  9 |  40 |  12 | 42790000 |\n| 817127 | -0.5 |  9 |  40 |  20 | 41510000 |\n| 817127 | -0.5 | 10 | 100 | 100 | 46720000 |\n| 817127 | -0.5 | 10 | 100 | 200 | 48600000 |\n| 817127 | -0.5 | 10 | 200 | 100 | 46720000 |\n| 817127 | -0.5 | 10 | 200 | 200 | 48600000 |\n| 817127 | -0.5 | 12 | 100 | 100 | 42690000 |\n| 817127 | -0.5 | 12 | 100 | 200 | 46420000 |\n| 817127 | -0.5 | 12 | 200 | 100 | 42690000 |\n| 817127 | -0.5 | 12 | 200 | 200 | 46420000 |\n| 817127 | -0.5 | 10 | 300 | 400 | 49510000 |\n| 817127 | -0.5 | 10 | 300 | 500 | 48580000 |\n| 817127 | -0.5 | 10 | 400 | 400 | 49510000 |\n| 817127 | -0.5 | 10 | 400 | 500 | 48580000 |\n| 817127 | -0.5 | 12 | 300 | 400 | 46840000 |\n| 817127 | -0.5 | 12 | 300 | 500 | 46230000 |\n| ⋮ | ⋮ | ⋮ | ⋮ | ⋮ | ⋮ |\n| 817127 | -0.5 |  8 |  600 | 100 | 43690000 |\n| 817127 | -0.5 |  8 |  600 | 200 | 48390000 |\n| 817127 | -0.5 | 10 |  500 | 100 | 44700000 |\n| 817127 | -0.5 | 10 |  500 | 200 | 46700000 |\n| 817127 | -0.5 | 10 |  600 | 100 | 43470000 |\n| 817127 | -0.5 | 10 |  600 | 200 | 47560000 |\n| 817127 | -0.5 | 12 |  700 | 300 | 47900000 |\n| 817127 | -0.5 | 12 |  700 | 200 | 45270000 |\n| 817127 | -0.5 | 12 |  600 | 300 | 49260000 |\n| 817127 | -0.5 | 12 |  600 | 200 | 45380000 |\n| 817127 | -0.5 |  4 |  700 | 300 | 48880000 |\n| 817127 | -0.5 |  4 |  700 | 200 | 48880000 |\n| 817127 | -0.5 |  4 |  600 | 300 | 48880000 |\n| 817127 | -0.5 |  4 |  600 | 200 | 48880000 |\n| 817127 | -1.0 | 12 |  700 | 300 | 47900000 |\n| 817127 | -1.0 | 12 |  700 | 200 | 45270000 |\n| 817127 | -1.0 | 12 |  600 | 300 | 49260000 |\n| 817127 | -1.0 | 12 |  600 | 200 | 45380000 |\n| 817127 | -1.0 |  4 |  700 | 300 | 48880000 |\n| 817127 | -1.0 |  4 |  700 | 200 | 48880000 |\n| 817127 | -1.0 |  4 |  600 | 300 | 48880000 |\n| 817127 | -1.0 |  4 |  600 | 200 | 48880000 |\n| 817127 | -1.0 |  6 |  900 | 300 | 49510000 |\n| 817127 | -1.0 |  6 |  900 | 200 | 49700000 |\n| 817127 | -1.0 |  6 | 1000 | 300 | 49510000 |\n| 817127 | -1.0 |  6 | 1000 | 200 | 49700000 |\n| 817127 | -1.0 |  8 |  900 | 300 | 48510000 |\n| 817127 | -1.0 |  8 |  900 | 200 | 48920000 |\n| 817127 | -1.0 |  8 | 1000 | 300 | 49940000 |\n| 817127 | -1.0 |  8 | 1000 | 200 | 49660000 |\n\n",
            "text/latex": "A data.table: 64 × 6\n\\begin{tabular}{llllll}\n semilla & cp & maxdepth & minsplit & minbucket & ganancia\\_test\\\\\n <int> & <dbl> & <dbl> & <dbl> & <dbl> & <dbl>\\\\\n\\hline\n\t 817127 & -0.5 & 10 & 750 &  41 & 44890000\\\\\n\t 817127 & -0.5 &  6 &  20 &  10 & 46070000\\\\\n\t 817127 & -0.5 &  6 &  10 &   5 & 48030000\\\\\n\t 817127 & -0.5 &  6 &  10 &  10 & 46070000\\\\\n\t 817127 & -0.5 &  8 &  20 &   5 & 43980000\\\\\n\t 817127 & -0.5 &  8 &  20 &  10 & 44810000\\\\\n\t 817127 & -0.5 &  8 &  10 &   5 & 44170000\\\\\n\t 817127 & -0.5 &  8 &  10 &  10 & 44810000\\\\\n\t 817127 & -0.5 &  7 &  30 &  12 & 43680000\\\\\n\t 817127 & -0.5 &  7 &  30 &  20 & 45100000\\\\\n\t 817127 & -0.5 &  7 &  40 &  12 & 44030000\\\\\n\t 817127 & -0.5 &  7 &  40 &  20 & 45100000\\\\\n\t 817127 & -0.5 &  9 &  30 &  12 & 41900000\\\\\n\t 817127 & -0.5 &  9 &  30 &  20 & 41510000\\\\\n\t 817127 & -0.5 &  9 &  40 &  12 & 42790000\\\\\n\t 817127 & -0.5 &  9 &  40 &  20 & 41510000\\\\\n\t 817127 & -0.5 & 10 & 100 & 100 & 46720000\\\\\n\t 817127 & -0.5 & 10 & 100 & 200 & 48600000\\\\\n\t 817127 & -0.5 & 10 & 200 & 100 & 46720000\\\\\n\t 817127 & -0.5 & 10 & 200 & 200 & 48600000\\\\\n\t 817127 & -0.5 & 12 & 100 & 100 & 42690000\\\\\n\t 817127 & -0.5 & 12 & 100 & 200 & 46420000\\\\\n\t 817127 & -0.5 & 12 & 200 & 100 & 42690000\\\\\n\t 817127 & -0.5 & 12 & 200 & 200 & 46420000\\\\\n\t 817127 & -0.5 & 10 & 300 & 400 & 49510000\\\\\n\t 817127 & -0.5 & 10 & 300 & 500 & 48580000\\\\\n\t 817127 & -0.5 & 10 & 400 & 400 & 49510000\\\\\n\t 817127 & -0.5 & 10 & 400 & 500 & 48580000\\\\\n\t 817127 & -0.5 & 12 & 300 & 400 & 46840000\\\\\n\t 817127 & -0.5 & 12 & 300 & 500 & 46230000\\\\\n\t ⋮ & ⋮ & ⋮ & ⋮ & ⋮ & ⋮\\\\\n\t 817127 & -0.5 &  8 &  600 & 100 & 43690000\\\\\n\t 817127 & -0.5 &  8 &  600 & 200 & 48390000\\\\\n\t 817127 & -0.5 & 10 &  500 & 100 & 44700000\\\\\n\t 817127 & -0.5 & 10 &  500 & 200 & 46700000\\\\\n\t 817127 & -0.5 & 10 &  600 & 100 & 43470000\\\\\n\t 817127 & -0.5 & 10 &  600 & 200 & 47560000\\\\\n\t 817127 & -0.5 & 12 &  700 & 300 & 47900000\\\\\n\t 817127 & -0.5 & 12 &  700 & 200 & 45270000\\\\\n\t 817127 & -0.5 & 12 &  600 & 300 & 49260000\\\\\n\t 817127 & -0.5 & 12 &  600 & 200 & 45380000\\\\\n\t 817127 & -0.5 &  4 &  700 & 300 & 48880000\\\\\n\t 817127 & -0.5 &  4 &  700 & 200 & 48880000\\\\\n\t 817127 & -0.5 &  4 &  600 & 300 & 48880000\\\\\n\t 817127 & -0.5 &  4 &  600 & 200 & 48880000\\\\\n\t 817127 & -1.0 & 12 &  700 & 300 & 47900000\\\\\n\t 817127 & -1.0 & 12 &  700 & 200 & 45270000\\\\\n\t 817127 & -1.0 & 12 &  600 & 300 & 49260000\\\\\n\t 817127 & -1.0 & 12 &  600 & 200 & 45380000\\\\\n\t 817127 & -1.0 &  4 &  700 & 300 & 48880000\\\\\n\t 817127 & -1.0 &  4 &  700 & 200 & 48880000\\\\\n\t 817127 & -1.0 &  4 &  600 & 300 & 48880000\\\\\n\t 817127 & -1.0 &  4 &  600 & 200 & 48880000\\\\\n\t 817127 & -1.0 &  6 &  900 & 300 & 49510000\\\\\n\t 817127 & -1.0 &  6 &  900 & 200 & 49700000\\\\\n\t 817127 & -1.0 &  6 & 1000 & 300 & 49510000\\\\\n\t 817127 & -1.0 &  6 & 1000 & 200 & 49700000\\\\\n\t 817127 & -1.0 &  8 &  900 & 300 & 48510000\\\\\n\t 817127 & -1.0 &  8 &  900 & 200 & 48920000\\\\\n\t 817127 & -1.0 &  8 & 1000 & 300 & 49940000\\\\\n\t 817127 & -1.0 &  8 & 1000 & 200 & 49660000\\\\\n\\end{tabular}\n",
            "text/plain": [
              "   semilla cp   maxdepth minsplit minbucket ganancia_test\n",
              "1  817127  -0.5 10       750       41       44890000     \n",
              "2  817127  -0.5  6        20       10       46070000     \n",
              "3  817127  -0.5  6        10        5       48030000     \n",
              "4  817127  -0.5  6        10       10       46070000     \n",
              "5  817127  -0.5  8        20        5       43980000     \n",
              "6  817127  -0.5  8        20       10       44810000     \n",
              "7  817127  -0.5  8        10        5       44170000     \n",
              "8  817127  -0.5  8        10       10       44810000     \n",
              "9  817127  -0.5  7        30       12       43680000     \n",
              "10 817127  -0.5  7        30       20       45100000     \n",
              "11 817127  -0.5  7        40       12       44030000     \n",
              "12 817127  -0.5  7        40       20       45100000     \n",
              "13 817127  -0.5  9        30       12       41900000     \n",
              "14 817127  -0.5  9        30       20       41510000     \n",
              "15 817127  -0.5  9        40       12       42790000     \n",
              "16 817127  -0.5  9        40       20       41510000     \n",
              "17 817127  -0.5 10       100      100       46720000     \n",
              "18 817127  -0.5 10       100      200       48600000     \n",
              "19 817127  -0.5 10       200      100       46720000     \n",
              "20 817127  -0.5 10       200      200       48600000     \n",
              "21 817127  -0.5 12       100      100       42690000     \n",
              "22 817127  -0.5 12       100      200       46420000     \n",
              "23 817127  -0.5 12       200      100       42690000     \n",
              "24 817127  -0.5 12       200      200       46420000     \n",
              "25 817127  -0.5 10       300      400       49510000     \n",
              "26 817127  -0.5 10       300      500       48580000     \n",
              "27 817127  -0.5 10       400      400       49510000     \n",
              "28 817127  -0.5 10       400      500       48580000     \n",
              "29 817127  -0.5 12       300      400       46840000     \n",
              "30 817127  -0.5 12       300      500       46230000     \n",
              "⋮  ⋮       ⋮    ⋮        ⋮        ⋮         ⋮            \n",
              "35 817127  -0.5  8        600     100       43690000     \n",
              "36 817127  -0.5  8        600     200       48390000     \n",
              "37 817127  -0.5 10        500     100       44700000     \n",
              "38 817127  -0.5 10        500     200       46700000     \n",
              "39 817127  -0.5 10        600     100       43470000     \n",
              "40 817127  -0.5 10        600     200       47560000     \n",
              "41 817127  -0.5 12        700     300       47900000     \n",
              "42 817127  -0.5 12        700     200       45270000     \n",
              "43 817127  -0.5 12        600     300       49260000     \n",
              "44 817127  -0.5 12        600     200       45380000     \n",
              "45 817127  -0.5  4        700     300       48880000     \n",
              "46 817127  -0.5  4        700     200       48880000     \n",
              "47 817127  -0.5  4        600     300       48880000     \n",
              "48 817127  -0.5  4        600     200       48880000     \n",
              "49 817127  -1.0 12        700     300       47900000     \n",
              "50 817127  -1.0 12        700     200       45270000     \n",
              "51 817127  -1.0 12        600     300       49260000     \n",
              "52 817127  -1.0 12        600     200       45380000     \n",
              "53 817127  -1.0  4        700     300       48880000     \n",
              "54 817127  -1.0  4        700     200       48880000     \n",
              "55 817127  -1.0  4        600     300       48880000     \n",
              "56 817127  -1.0  4        600     200       48880000     \n",
              "57 817127  -1.0  6        900     300       49510000     \n",
              "58 817127  -1.0  6        900     200       49700000     \n",
              "59 817127  -1.0  6       1000     300       49510000     \n",
              "60 817127  -1.0  6       1000     200       49700000     \n",
              "61 817127  -1.0  8        900     300       48510000     \n",
              "62 817127  -1.0  8        900     200       48920000     \n",
              "63 817127  -1.0  8       1000     300       49940000     \n",
              "64 817127  -1.0  8       1000     200       49660000     "
            ]
          },
          "metadata": {}
        }
      ]
    },
    {
      "cell_type": "code",
      "source": [
        "# genero y grabo el resumen\n",
        "tb_grid_search <- tb_grid_search_detalle[,\n",
        "  list( \"ganancia_mean\" = mean(ganancia_test),\n",
        "    \"qty\" = .N ),\n",
        "  list( cp, maxdepth, minsplit, minbucket )\n",
        "]\n"
      ],
      "metadata": {
        "id": "DjCxtx8bIsgl"
      },
      "execution_count": 88,
      "outputs": []
    },
    {
      "cell_type": "code",
      "source": [
        "# ordeno descendente por ganancia\n",
        "setorder( tb_grid_search, -ganancia_mean )\n"
      ],
      "metadata": {
        "id": "LU29UhL1Ivg5"
      },
      "execution_count": 89,
      "outputs": []
    },
    {
      "cell_type": "code",
      "source": [
        "# veo los 10 mejores hiperparámetros\n",
        "tb_grid_search[1:10]"
      ],
      "metadata": {
        "id": "g-EjGY7aIyWL",
        "colab": {
          "base_uri": "https://localhost:8080/",
          "height": 412
        },
        "outputId": "d3d8d4c7-a850-4e1a-ef9a-71c667bfd22e"
      },
      "execution_count": 90,
      "outputs": [
        {
          "output_type": "display_data",
          "data": {
            "text/html": [
              "<table class=\"dataframe\">\n",
              "<caption>A data.table: 10 × 6</caption>\n",
              "<thead>\n",
              "\t<tr><th scope=col>cp</th><th scope=col>maxdepth</th><th scope=col>minsplit</th><th scope=col>minbucket</th><th scope=col>ganancia_mean</th><th scope=col>qty</th></tr>\n",
              "\t<tr><th scope=col>&lt;dbl&gt;</th><th scope=col>&lt;dbl&gt;</th><th scope=col>&lt;dbl&gt;</th><th scope=col>&lt;dbl&gt;</th><th scope=col>&lt;dbl&gt;</th><th scope=col>&lt;int&gt;</th></tr>\n",
              "</thead>\n",
              "<tbody>\n",
              "\t<tr><td>-1.0</td><td> 8</td><td>1000</td><td>300</td><td>49940000</td><td>1</td></tr>\n",
              "\t<tr><td>-1.0</td><td> 6</td><td> 900</td><td>200</td><td>49700000</td><td>1</td></tr>\n",
              "\t<tr><td>-1.0</td><td> 6</td><td>1000</td><td>200</td><td>49700000</td><td>1</td></tr>\n",
              "\t<tr><td>-1.0</td><td> 8</td><td>1000</td><td>200</td><td>49660000</td><td>1</td></tr>\n",
              "\t<tr><td>-0.5</td><td>10</td><td> 300</td><td>400</td><td>49510000</td><td>1</td></tr>\n",
              "\t<tr><td>-0.5</td><td>10</td><td> 400</td><td>400</td><td>49510000</td><td>1</td></tr>\n",
              "\t<tr><td>-1.0</td><td> 6</td><td> 900</td><td>300</td><td>49510000</td><td>1</td></tr>\n",
              "\t<tr><td>-1.0</td><td> 6</td><td>1000</td><td>300</td><td>49510000</td><td>1</td></tr>\n",
              "\t<tr><td>-0.5</td><td>12</td><td> 600</td><td>300</td><td>49260000</td><td>1</td></tr>\n",
              "\t<tr><td>-1.0</td><td>12</td><td> 600</td><td>300</td><td>49260000</td><td>1</td></tr>\n",
              "</tbody>\n",
              "</table>\n"
            ],
            "text/markdown": "\nA data.table: 10 × 6\n\n| cp &lt;dbl&gt; | maxdepth &lt;dbl&gt; | minsplit &lt;dbl&gt; | minbucket &lt;dbl&gt; | ganancia_mean &lt;dbl&gt; | qty &lt;int&gt; |\n|---|---|---|---|---|---|\n| -1.0 |  8 | 1000 | 300 | 49940000 | 1 |\n| -1.0 |  6 |  900 | 200 | 49700000 | 1 |\n| -1.0 |  6 | 1000 | 200 | 49700000 | 1 |\n| -1.0 |  8 | 1000 | 200 | 49660000 | 1 |\n| -0.5 | 10 |  300 | 400 | 49510000 | 1 |\n| -0.5 | 10 |  400 | 400 | 49510000 | 1 |\n| -1.0 |  6 |  900 | 300 | 49510000 | 1 |\n| -1.0 |  6 | 1000 | 300 | 49510000 | 1 |\n| -0.5 | 12 |  600 | 300 | 49260000 | 1 |\n| -1.0 | 12 |  600 | 300 | 49260000 | 1 |\n\n",
            "text/latex": "A data.table: 10 × 6\n\\begin{tabular}{llllll}\n cp & maxdepth & minsplit & minbucket & ganancia\\_mean & qty\\\\\n <dbl> & <dbl> & <dbl> & <dbl> & <dbl> & <int>\\\\\n\\hline\n\t -1.0 &  8 & 1000 & 300 & 49940000 & 1\\\\\n\t -1.0 &  6 &  900 & 200 & 49700000 & 1\\\\\n\t -1.0 &  6 & 1000 & 200 & 49700000 & 1\\\\\n\t -1.0 &  8 & 1000 & 200 & 49660000 & 1\\\\\n\t -0.5 & 10 &  300 & 400 & 49510000 & 1\\\\\n\t -0.5 & 10 &  400 & 400 & 49510000 & 1\\\\\n\t -1.0 &  6 &  900 & 300 & 49510000 & 1\\\\\n\t -1.0 &  6 & 1000 & 300 & 49510000 & 1\\\\\n\t -0.5 & 12 &  600 & 300 & 49260000 & 1\\\\\n\t -1.0 & 12 &  600 & 300 & 49260000 & 1\\\\\n\\end{tabular}\n",
            "text/plain": [
              "   cp   maxdepth minsplit minbucket ganancia_mean qty\n",
              "1  -1.0  8       1000     300       49940000      1  \n",
              "2  -1.0  6        900     200       49700000      1  \n",
              "3  -1.0  6       1000     200       49700000      1  \n",
              "4  -1.0  8       1000     200       49660000      1  \n",
              "5  -0.5 10        300     400       49510000      1  \n",
              "6  -0.5 10        400     400       49510000      1  \n",
              "7  -1.0  6        900     300       49510000      1  \n",
              "8  -1.0  6       1000     300       49510000      1  \n",
              "9  -0.5 12        600     300       49260000      1  \n",
              "10 -1.0 12        600     300       49260000      1  "
            ]
          },
          "metadata": {}
        }
      ]
    },
    {
      "cell_type": "code",
      "source": [
        "# genero un id a la tabla\n",
        "tb_grid_search[, id := .I ]\n",
        "\n",
        "fwrite( tb_grid_search,\n",
        "  file = \"gridsearch.txt\",\n",
        "  sep = \"\\t\"\n",
        ")\n"
      ],
      "metadata": {
        "id": "K3S-I2PTI5ZE"
      },
      "execution_count": 91,
      "outputs": []
    },
    {
      "cell_type": "markdown",
      "source": [
        "# 4.  Análisis de resultados de Grid Search"
      ],
      "metadata": {
        "id": "1rYHk1YkI_9k"
      }
    },
    {
      "cell_type": "markdown",
      "source": [
        "La salida de la corrida anterior queda en ~/buckets/b1/exp/HT2900  que corresponde a su Google Drive\n",
        "<br>HT significa Hyperparameter Tuning\n",
        "<br>El Grid Search es un método de fuerza bruta de un altísimo costo computacional.\n",
        "<br>Queremos ver si es posible crear un algoritmo de optimización de hiperparámetros que se ahorre recorrer ciertas porciones muy malas del espacio de búsqueda. Algo del estilo “cada vez que pruebo una combinación de hiperparámetros donde  cp > 1 , la ganancia es muy mala, con lo cual ni vale la pena perder el tiempo explorando en esa region”\n"
      ],
      "metadata": {
        "id": "ZTJgPhMWJHTk"
      }
    },
    {
      "cell_type": "markdown",
      "source": [
        "<br>Levante el archivo de salida gridsearch.txt  a una planilla tipo Excel y analícelo detenidamente\n",
        "<br>Ordene por ganancia_mean descendente\n",
        "<br>\n",
        "<br>El de mayor ganancia_mean  decimos que es el primero del ranking\n",
        "En Zulip, correspondiente channel  #Tarea Hogar 02 , topic Analisis Grid Search   intente contestar estas preguntas:\n",
        "\n",
        "* ¿Qué combinaciones de hiperparámetros poseen una ganancia muy buena?\n",
        "* ¿Hay algun hiperparámetro que para cierto valor siempre genera una ganancia muy mala, a independientemente de lo que valgan los otros hiperparámetros ?\n",
        "* ¿Que combinaciones de hiperparámetros es pésima y hubiera sido bueno ahorrarse esas corridas ?\n",
        "\n",
        "( tiempo estimado 30 minutos, dificultad media )"
      ],
      "metadata": {
        "id": "IaVgMu4tPwyB"
      }
    }
  ]
}